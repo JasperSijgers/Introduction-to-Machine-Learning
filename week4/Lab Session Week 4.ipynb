{
 "cells": [
  {
   "cell_type": "markdown",
   "metadata": {},
   "source": [
    "# Lab session week 4: Analysis and cleaning\n",
    "\n",
    "In this lab session you will learn how to work with analysing, cleaning and preprocessing data. You will use the kNN classifier in the end.\n",
    "\n",
    "This weeks lab session consists of 5 small exercises:\n",
    "1. Analysing your data\n",
    "2. Imputation of missing values\n",
    "3. Dealing with outliers\n",
    "3. Preprocessing\n",
    "4. Classification with kNN"
   ]
  },
  {
   "cell_type": "code",
   "execution_count": 17,
   "metadata": {},
   "outputs": [],
   "source": [
    "from IPython.display import HTML\n",
    "import matplotlib\n",
    "import pandas as pd\n",
    "import numpy as np\n",
    "pd.set_option('display.max_columns', 500)"
   ]
  },
  {
   "cell_type": "markdown",
   "metadata": {},
   "source": [
    "## Exercise 1: analysing data with Pandas\n",
    "During this exercise we will use the dataset `housedata.csv`. Please watch the following video to understand the describe function of Pandas:"
   ]
  },
  {
   "cell_type": "code",
   "execution_count": 2,
   "metadata": {},
   "outputs": [
    {
     "name": "stderr",
     "output_type": "stream",
     "text": [
      "/Users/jasper/opt/anaconda3/lib/python3.7/site-packages/IPython/core/display.py:694: UserWarning: Consider using IPython.display.IFrame instead\n",
      "  warnings.warn(\"Consider using IPython.display.IFrame instead\")\n"
     ]
    },
    {
     "data": {
      "text/html": [
       "<iframe width=\"560\" height=\"315\" src=\"https://www.youtube.com/embed/MaTAhxRsshE\" frameborder=\"0\" allow=\"autoplay; encrypted-media\" allowfullscreen></iframe>"
      ],
      "text/plain": [
       "<IPython.core.display.HTML object>"
      ]
     },
     "execution_count": 2,
     "metadata": {},
     "output_type": "execute_result"
    }
   ],
   "source": [
    "HTML('<iframe width=\"560\" height=\"315\" src=\"https://www.youtube.com/embed/MaTAhxRsshE\" frameborder=\"0\" allow=\"autoplay; encrypted-media\" allowfullscreen></iframe>')"
   ]
  },
  {
   "cell_type": "markdown",
   "metadata": {},
   "source": [
    "This exercise will use a dataset that has been created using this dataset from Kaggle (https://www.kaggle.com/c/house-prices-advanced-regression-techniques/data). It might be useful to look up the column information for each of the columns in your own dataset before you proceed.\n",
    "\n",
    "Now it is time to analyse our own dataset `housedata.csv`. Please do the following exercises:\n",
    "1. Load your data into a dataframe\n",
    "2. Have a look at the statistics using the describe function (hint: use include = 'all') and answer the following questions\n",
    "    - Does your dataset have missing values?\n",
    "    - Are there outliers?\n",
    "    - How is the distribution of your data (hint: use plots)?"
   ]
  },
  {
   "cell_type": "code",
   "execution_count": 29,
   "metadata": {
    "scrolled": false
   },
   "outputs": [
    {
     "data": {
      "text/html": [
       "<div>\n",
       "<style scoped>\n",
       "    .dataframe tbody tr th:only-of-type {\n",
       "        vertical-align: middle;\n",
       "    }\n",
       "\n",
       "    .dataframe tbody tr th {\n",
       "        vertical-align: top;\n",
       "    }\n",
       "\n",
       "    .dataframe thead th {\n",
       "        text-align: right;\n",
       "    }\n",
       "</style>\n",
       "<table border=\"1\" class=\"dataframe\">\n",
       "  <thead>\n",
       "    <tr style=\"text-align: right;\">\n",
       "      <th></th>\n",
       "      <th>LotArea</th>\n",
       "      <th>LotFrontage</th>\n",
       "      <th>BldgType</th>\n",
       "      <th>OverallQual</th>\n",
       "      <th>OverallCond</th>\n",
       "      <th>YearBuilt</th>\n",
       "      <th>HeatingQC</th>\n",
       "      <th>Label</th>\n",
       "    </tr>\n",
       "  </thead>\n",
       "  <tbody>\n",
       "    <tr>\n",
       "      <td>count</td>\n",
       "      <td>1460.000000</td>\n",
       "      <td>1201.000000</td>\n",
       "      <td>1378</td>\n",
       "      <td>1362.000000</td>\n",
       "      <td>1460.000000</td>\n",
       "      <td>1460.000000</td>\n",
       "      <td>1460</td>\n",
       "      <td>1460</td>\n",
       "    </tr>\n",
       "    <tr>\n",
       "      <td>unique</td>\n",
       "      <td>NaN</td>\n",
       "      <td>NaN</td>\n",
       "      <td>5</td>\n",
       "      <td>NaN</td>\n",
       "      <td>NaN</td>\n",
       "      <td>NaN</td>\n",
       "      <td>5</td>\n",
       "      <td>3</td>\n",
       "    </tr>\n",
       "    <tr>\n",
       "      <td>top</td>\n",
       "      <td>NaN</td>\n",
       "      <td>NaN</td>\n",
       "      <td>1Fam</td>\n",
       "      <td>NaN</td>\n",
       "      <td>NaN</td>\n",
       "      <td>NaN</td>\n",
       "      <td>Ex</td>\n",
       "      <td>normal</td>\n",
       "    </tr>\n",
       "    <tr>\n",
       "      <td>freq</td>\n",
       "      <td>NaN</td>\n",
       "      <td>NaN</td>\n",
       "      <td>1153</td>\n",
       "      <td>NaN</td>\n",
       "      <td>NaN</td>\n",
       "      <td>NaN</td>\n",
       "      <td>741</td>\n",
       "      <td>593</td>\n",
       "    </tr>\n",
       "    <tr>\n",
       "      <td>mean</td>\n",
       "      <td>10516.828082</td>\n",
       "      <td>70.049958</td>\n",
       "      <td>NaN</td>\n",
       "      <td>6.095448</td>\n",
       "      <td>5.575342</td>\n",
       "      <td>1934.567808</td>\n",
       "      <td>NaN</td>\n",
       "      <td>NaN</td>\n",
       "    </tr>\n",
       "    <tr>\n",
       "      <td>std</td>\n",
       "      <td>9981.264932</td>\n",
       "      <td>24.284752</td>\n",
       "      <td>NaN</td>\n",
       "      <td>1.386296</td>\n",
       "      <td>1.112799</td>\n",
       "      <td>300.142482</td>\n",
       "      <td>NaN</td>\n",
       "      <td>NaN</td>\n",
       "    </tr>\n",
       "    <tr>\n",
       "      <td>min</td>\n",
       "      <td>1300.000000</td>\n",
       "      <td>21.000000</td>\n",
       "      <td>NaN</td>\n",
       "      <td>1.000000</td>\n",
       "      <td>1.000000</td>\n",
       "      <td>-491.000000</td>\n",
       "      <td>NaN</td>\n",
       "      <td>NaN</td>\n",
       "    </tr>\n",
       "    <tr>\n",
       "      <td>25%</td>\n",
       "      <td>7553.500000</td>\n",
       "      <td>59.000000</td>\n",
       "      <td>NaN</td>\n",
       "      <td>5.000000</td>\n",
       "      <td>5.000000</td>\n",
       "      <td>1952.000000</td>\n",
       "      <td>NaN</td>\n",
       "      <td>NaN</td>\n",
       "    </tr>\n",
       "    <tr>\n",
       "      <td>50%</td>\n",
       "      <td>9478.500000</td>\n",
       "      <td>69.000000</td>\n",
       "      <td>NaN</td>\n",
       "      <td>6.000000</td>\n",
       "      <td>5.000000</td>\n",
       "      <td>1972.000000</td>\n",
       "      <td>NaN</td>\n",
       "      <td>NaN</td>\n",
       "    </tr>\n",
       "    <tr>\n",
       "      <td>75%</td>\n",
       "      <td>11601.500000</td>\n",
       "      <td>80.000000</td>\n",
       "      <td>NaN</td>\n",
       "      <td>7.000000</td>\n",
       "      <td>6.000000</td>\n",
       "      <td>2000.000000</td>\n",
       "      <td>NaN</td>\n",
       "      <td>NaN</td>\n",
       "    </tr>\n",
       "    <tr>\n",
       "      <td>max</td>\n",
       "      <td>215245.000000</td>\n",
       "      <td>313.000000</td>\n",
       "      <td>NaN</td>\n",
       "      <td>10.000000</td>\n",
       "      <td>9.000000</td>\n",
       "      <td>2457.000000</td>\n",
       "      <td>NaN</td>\n",
       "      <td>NaN</td>\n",
       "    </tr>\n",
       "  </tbody>\n",
       "</table>\n",
       "</div>"
      ],
      "text/plain": [
       "              LotArea  LotFrontage BldgType  OverallQual  OverallCond  \\\n",
       "count     1460.000000  1201.000000     1378  1362.000000  1460.000000   \n",
       "unique            NaN          NaN        5          NaN          NaN   \n",
       "top               NaN          NaN     1Fam          NaN          NaN   \n",
       "freq              NaN          NaN     1153          NaN          NaN   \n",
       "mean     10516.828082    70.049958      NaN     6.095448     5.575342   \n",
       "std       9981.264932    24.284752      NaN     1.386296     1.112799   \n",
       "min       1300.000000    21.000000      NaN     1.000000     1.000000   \n",
       "25%       7553.500000    59.000000      NaN     5.000000     5.000000   \n",
       "50%       9478.500000    69.000000      NaN     6.000000     5.000000   \n",
       "75%      11601.500000    80.000000      NaN     7.000000     6.000000   \n",
       "max     215245.000000   313.000000      NaN    10.000000     9.000000   \n",
       "\n",
       "          YearBuilt HeatingQC   Label  \n",
       "count   1460.000000      1460    1460  \n",
       "unique          NaN         5       3  \n",
       "top             NaN        Ex  normal  \n",
       "freq            NaN       741     593  \n",
       "mean    1934.567808       NaN     NaN  \n",
       "std      300.142482       NaN     NaN  \n",
       "min     -491.000000       NaN     NaN  \n",
       "25%     1952.000000       NaN     NaN  \n",
       "50%     1972.000000       NaN     NaN  \n",
       "75%     2000.000000       NaN     NaN  \n",
       "max     2457.000000       NaN     NaN  "
      ]
     },
     "execution_count": 29,
     "metadata": {},
     "output_type": "execute_result"
    }
   ],
   "source": [
    "# Create a dataframe from the CSV file and describe it\n",
    "df = pd.read_csv(\"housedata.csv\")\n",
    "df.describe(include=\"all\")"
   ]
  },
  {
   "cell_type": "code",
   "execution_count": 30,
   "metadata": {},
   "outputs": [
    {
     "name": "stdout",
     "output_type": "stream",
     "text": [
      "LotArea        False\n",
      "LotFrontage     True\n",
      "BldgType        True\n",
      "OverallQual     True\n",
      "OverallCond    False\n",
      "YearBuilt      False\n",
      "HeatingQC      False\n",
      "Label          False\n",
      "dtype: bool\n"
     ]
    }
   ],
   "source": [
    "# Check whether any columns have missing (null) values\n",
    "print(df.isnull().any())"
   ]
  },
  {
   "cell_type": "code",
   "execution_count": 43,
   "metadata": {},
   "outputs": [
    {
     "name": "stdout",
     "output_type": "stream",
     "text": [
      "[array([  1300,   1477,  50271,  19900,  21000,  21453,  19378,  31770,\n",
      "        22950,  25419, 159000,  19296,  39104,  19138,  18386, 215245,\n",
      "       164660,  20431,  18800,  53107,  34650,  22420,  21750,  70761,\n",
      "        53227,  40094,  32668,  21872,  21780,  25095,  46589,  20896,\n",
      "        18450,  21535,  26178, 115149,  21695,  53504,  21384,  28698,\n",
      "        45600,  17920,  25286,  27650,  24090,  25000,  21286,  21750,\n",
      "        29959,  18000,  23257,  17755,  35760,  18030,  35133,  32463,\n",
      "        18890,  24682,  23595,  17871,  36500,  63887,  20781,  25339,\n",
      "        57200,  20544,  19690,  21930,  26142])]\n"
     ]
    },
    {
     "data": {
      "image/png": "[encoded data removed]",
      "text/plain": [
       "<Figure size 432x288 with 1 Axes>"
      ]
     },
     "metadata": {
      "needs_background": "light"
     },
     "output_type": "display_data"
    }
   ],
   "source": [
    "# Check for outliers in the LotArea column\n",
    "_, bp = df.boxplot(column=\"LotArea\", return_type=\"both\")\n",
    "outliers = [flier.get_ydata() for flier in bp[\"fliers\"]]\n",
    "print(outliers)"
   ]
  },
  {
   "cell_type": "code",
   "execution_count": 44,
   "metadata": {},
   "outputs": [
    {
     "name": "stdout",
     "output_type": "stream",
     "text": [
      "[array([ 24.,  21.,  24.,  24.,  24.,  21.,  21.,  21.,  21.,  21.,  21.,\n",
      "        24.,  21.,  21.,  21.,  24.,  24.,  21.,  21.,  21.,  24.,  24.,\n",
      "        24.,  21.,  21.,  24.,  24.,  24.,  21.,  21.,  21.,  21.,  24.,\n",
      "        24.,  24.,  24.,  24.,  21.,  21.,  24.,  21.,  21., 112., 115.,\n",
      "       121., 122., 120., 134., 141., 174., 174., 120., 129., 140., 120.,\n",
      "       118., 116., 150., 130., 137., 130., 120., 144., 114., 128., 116.,\n",
      "       149., 313., 122., 130., 121., 115., 120., 114., 168., 182., 134.,\n",
      "       120., 118., 138., 160., 152., 124., 313., 153., 120., 129., 124.])]\n"
     ]
    },
    {
     "data": {
      "image/png": "[encoded data removed]",
      "text/plain": [
       "<Figure size 432x288 with 1 Axes>"
      ]
     },
     "metadata": {
      "needs_background": "light"
     },
     "output_type": "display_data"
    }
   ],
   "source": [
    "# Check for outliers in the LotFrontage column\n",
    "_, bp = df.boxplot(column=\"LotFrontage\", return_type=\"both\")\n",
    "outliers = [flier.get_ydata() for flier in bp[\"fliers\"]]\n",
    "print(outliers)"
   ]
  },
  {
   "cell_type": "code",
   "execution_count": 57,
   "metadata": {
    "scrolled": true
   },
   "outputs": [
    {
     "name": "stdout",
     "output_type": "stream",
     "text": [
      "BldgType\n",
      "1Fam      1153\n",
      "2fmCon      31\n",
      "Duplex      48\n",
      "Twnhs       41\n",
      "TwnhsE     105\n",
      "dtype: int64\n"
     ]
    }
   ],
   "source": [
    "# Check for outliers in the BldgType column\n",
    "vals = df.groupby(\"BldgType\").size()\n",
    "print(vals)"
   ]
  },
  {
   "cell_type": "code",
   "execution_count": 45,
   "metadata": {},
   "outputs": [
    {
     "name": "stdout",
     "output_type": "stream",
     "text": [
      "[array([1., 1.])]\n"
     ]
    },
    {
     "data": {
      "image/png": "[encoded data removed]",
      "text/plain": [
       "<Figure size 432x288 with 1 Axes>"
      ]
     },
     "metadata": {
      "needs_background": "light"
     },
     "output_type": "display_data"
    }
   ],
   "source": [
    "# Check for outliers in the OverallQual column\n",
    "_, bp = df.boxplot(column=\"OverallQual\", return_type=\"both\")\n",
    "outliers = [flier.get_ydata() for flier in bp[\"fliers\"]]\n",
    "print(outliers)"
   ]
  },
  {
   "cell_type": "code",
   "execution_count": 46,
   "metadata": {},
   "outputs": [
    {
     "name": "stdout",
     "output_type": "stream",
     "text": [
      "[array([2, 3, 3, 2, 3, 1, 2, 3, 3, 2, 3, 3, 3, 3, 3, 3, 2, 3, 3, 3, 3, 3,\n",
      "       3, 3, 3, 3, 3, 3, 3, 3, 3, 8, 8, 8, 8, 8, 8, 8, 9, 8, 9, 9, 9, 8,\n",
      "       8, 8, 9, 8, 8, 8, 8, 8, 8, 8, 8, 8, 8, 9, 8, 8, 8, 8, 9, 9, 8, 8,\n",
      "       9, 8, 8, 8, 8, 8, 9, 8, 8, 9, 8, 9, 8, 8, 8, 8, 8, 8, 8, 8, 8, 8,\n",
      "       8, 8, 8, 8, 9, 8, 9, 8, 8, 8, 8, 8, 8, 9, 8, 9, 8, 8, 8, 8, 8, 8,\n",
      "       8, 9, 8, 8, 8, 8, 9, 8, 9, 9, 8, 8, 8, 9, 9])]\n"
     ]
    },
    {
     "data": {
      "image/png": "[encoded data removed]",
      "text/plain": [
       "<Figure size 432x288 with 1 Axes>"
      ]
     },
     "metadata": {
      "needs_background": "light"
     },
     "output_type": "display_data"
    }
   ],
   "source": [
    "# Check for outliers in the OverallCond column\n",
    "_, bp = df.boxplot(column=\"OverallCond\", return_type=\"both\")\n",
    "outliers = [flier.get_ydata() for flier in bp[\"fliers\"]]\n",
    "print(outliers)"
   ]
  },
  {
   "cell_type": "code",
   "execution_count": 47,
   "metadata": {},
   "outputs": [
    {
     "name": "stdout",
     "output_type": "stream",
     "text": [
      "[array([-491, -489, -226, -244, -385, -472, -464, -485, -402, -378, -304,\n",
      "       -342, -439, -331, -291, 1875, -228, -377, -251, -418, -347, -377,\n",
      "       1872, -313, -369, -343, 2457, 2100, 2147, 2432, 2301, 2297, 2229,\n",
      "       2346])]\n"
     ]
    },
    {
     "data": {
      "image/png": "[encoded data removed]",
      "text/plain": [
       "<Figure size 432x288 with 1 Axes>"
      ]
     },
     "metadata": {
      "needs_background": "light"
     },
     "output_type": "display_data"
    }
   ],
   "source": [
    "# Check for outliers in the YearBuilt column\n",
    "_, bp = df.boxplot(column=\"YearBuilt\", return_type=\"both\")\n",
    "outliers = [flier.get_ydata() for flier in bp[\"fliers\"]]\n",
    "print(outliers)"
   ]
  },
  {
   "cell_type": "code",
   "execution_count": 58,
   "metadata": {
    "scrolled": true
   },
   "outputs": [
    {
     "name": "stdout",
     "output_type": "stream",
     "text": [
      "HeatingQC\n",
      "Ex    741\n",
      "Fa     49\n",
      "Gd    241\n",
      "Po      1\n",
      "TA    428\n",
      "dtype: int64\n"
     ]
    }
   ],
   "source": [
    "# Check for outliers in the HeatingQC column\n",
    "vals = df.groupby(\"HeatingQC\").size()\n",
    "print(vals)"
   ]
  },
  {
   "cell_type": "code",
   "execution_count": 59,
   "metadata": {
    "scrolled": true
   },
   "outputs": [
    {
     "name": "stdout",
     "output_type": "stream",
     "text": [
      "Label\n",
      "cheap        489\n",
      "expensive    378\n",
      "normal       593\n",
      "dtype: int64\n"
     ]
    }
   ],
   "source": [
    "# Check for outliers in the Label column\n",
    "vals = df.groupby(\"Label\").size()\n",
    "print(vals)"
   ]
  },
  {
   "cell_type": "markdown",
   "metadata": {},
   "source": [
    "**Your answers:**\n",
    "- Does the data set have missing values? Which columns?\n",
    "    - Yes, LotFrontage, BldgType and OverallQual have missing values\n",
    "- Does the data set have outliers? Which columns?\n",
    "    - Yes, Outliers printed above\n",
    "- How is the distribution of your data?\n",
    "    - Very good, thank you"
   ]
  },
  {
   "cell_type": "markdown",
   "metadata": {},
   "source": [
    "## Exercise 2: Imputation\n",
    "We will now fix the problem of missing values by using imputation. Please watch the following video to understand how imputation works:"
   ]
  },
  {
   "cell_type": "code",
   "execution_count": 60,
   "metadata": {},
   "outputs": [
    {
     "name": "stderr",
     "output_type": "stream",
     "text": [
      "/Users/jasper/opt/anaconda3/lib/python3.7/site-packages/IPython/core/display.py:694: UserWarning: Consider using IPython.display.IFrame instead\n",
      "  warnings.warn(\"Consider using IPython.display.IFrame instead\")\n"
     ]
    },
    {
     "data": {
      "text/html": [
       "<iframe width=\"560\" height=\"315\" src=\"https://www.youtube.com/embed/D6saJ9R65L4\" frameborder=\"0\" allow=\"autoplay; encrypted-media\" allowfullscreen></iframe>"
      ],
      "text/plain": [
       "<IPython.core.display.HTML object>"
      ]
     },
     "execution_count": 60,
     "metadata": {},
     "output_type": "execute_result"
    }
   ],
   "source": [
    "HTML('<iframe width=\"560\" height=\"315\" src=\"https://www.youtube.com/embed/D6saJ9R65L4\" frameborder=\"0\" allow=\"autoplay; encrypted-media\" allowfullscreen></iframe>')"
   ]
  },
  {
   "cell_type": "markdown",
   "metadata": {},
   "source": [
    "Lets try to do imputation on our own dataset.\n",
    "\n",
    "1. Impute missing values (mean, median or mode) depending on the earlier found statistics\n",
    "2. Use the Scikit-learn framework for imputation (http://scikit-learn.org/stable/modules/impute.html)"
   ]
  },
  {
   "cell_type": "code",
   "execution_count": 5,
   "metadata": {},
   "outputs": [],
   "source": [
    "# Impute missing values for numerical data using the imputer\n",
    "from sklearn.preprocessing import Imputer\n",
    "\n",
    "# Your code here"
   ]
  },
  {
   "cell_type": "code",
   "execution_count": 6,
   "metadata": {},
   "outputs": [],
   "source": [
    "# Impute missing values for categorical values using pandas operations\n",
    "\n",
    "# Your code here"
   ]
  },
  {
   "cell_type": "markdown",
   "metadata": {},
   "source": [
    "## Exercise 3: Dealing with outliers\n",
    "Since your dataset contains some outliers, we should fix this problem before proceeding to the next step. Read the following two (short) articles:\n",
    "1. https://www.theanalysisfactor.com/outliers-to-drop-or-not-to-drop/\n",
    "2. https://www.rapidinsightinc.com/handle-outliers/\n",
    "\n",
    "Use the described techniques, find the outliers in your dataset and deal with them!"
   ]
  },
  {
   "cell_type": "code",
   "execution_count": 7,
   "metadata": {},
   "outputs": [],
   "source": [
    "# Your code here"
   ]
  },
  {
   "cell_type": "markdown",
   "metadata": {},
   "source": [
    "## Exercise 4: Preprocessing\n",
    "In order to use the data we have to preprocess the data. We have to perform several steps to make the data ready for classification.\n",
    "\n",
    "1. Apply one-hot-encoding on categorical features (use Scikit-learn or getDummies in Pandas (see: http://queirozf.com/entries/one-hot-encoding-a-feature-on-a-pandas-dataframe-an-example))\n",
    "2. Apply min-max-scaling or standardization (use Scikit-learn)"
   ]
  },
  {
   "cell_type": "code",
   "execution_count": 8,
   "metadata": {},
   "outputs": [],
   "source": [
    "#1: Apply one hot encoding (using getdummies and concat?)\n",
    "\n",
    "# Your code here"
   ]
  },
  {
   "cell_type": "code",
   "execution_count": 9,
   "metadata": {},
   "outputs": [],
   "source": [
    "#2: Apply min-max scaling or standardization\n",
    "\n",
    "# Your code here"
   ]
  },
  {
   "cell_type": "markdown",
   "metadata": {},
   "source": [
    "## Exercise 5: Classification\n",
    "1. Split the dataset in two parts (75%/25%) for training and testing.\n",
    "2. Use the kNN algorithm from Scikit-learn and train a classifier\n",
    "3. Validate using your testset\n",
    "4. Play around with several hyperparameters to optimize your classification results\n",
    "\n",
    "**Warning: this dataset will probably not give you great classification results (around 70% score)**"
   ]
  },
  {
   "cell_type": "code",
   "execution_count": 18,
   "metadata": {},
   "outputs": [],
   "source": [
    "# Your code here"
   ]
  }
 ],
 "metadata": {
  "kernelspec": {
   "display_name": "Python 3",
   "language": "python",
   "name": "python3"
  },
  "language_info": {
   "codemirror_mode": {
    "name": "ipython",
    "version": 3
   },
   "file_extension": ".py",
   "mimetype": "text/x-python",
   "name": "python",
   "nbconvert_exporter": "python",
   "pygments_lexer": "ipython3",
   "version": "3.7.4"
  },
  "varInspector": {
   "cols": {
    "lenName": 16,
    "lenType": 16,
    "lenVar": 40
   },
   "kernels_config": {
    "python": {
     "delete_cmd_postfix": "",
     "delete_cmd_prefix": "del ",
     "library": "var_list.py",
     "varRefreshCmd": "print(var_dic_list())"
    },
    "r": {
     "delete_cmd_postfix": ") ",
     "delete_cmd_prefix": "rm(",
     "library": "var_list.r",
     "varRefreshCmd": "cat(var_dic_list()) "
    }
   },
   "types_to_exclude": [
    "module",
    "function",
    "builtin_function_or_method",
    "instance",
    "_Feature"
   ],
   "window_display": false
  }
 },
 "nbformat": 4,
 "nbformat_minor": 2
}
