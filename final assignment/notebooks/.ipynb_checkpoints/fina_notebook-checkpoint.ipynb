{
 "cells": [
  {
   "cell_type": "markdown",
   "metadata": {
    "colab_type": "text",
    "id": "XVWbCXVhdkRg"
   },
   "source": [
    "# Prediction\n",
    "\n",
    "This notebook is only meant to use the final model. For (documentation on) the process during which it was developed, please refer to the other three notebooks."
   ]
  },
  {
   "cell_type": "markdown",
   "metadata": {
    "colab_type": "text",
    "id": "1rZ6FERUfuXX"
   },
   "source": [
    "# Imports and Configuration"
   ]
  },
  {
   "cell_type": "code",
   "execution_count": 1,
   "metadata": {
    "colab": {},
    "colab_type": "code",
    "id": "20uohUiujhSu"
   },
   "outputs": [],
   "source": [
    "import glob\n",
    "import os\n",
    "from joblib import dump, load\n",
    "import pandas as pd\n",
    "import numpy as np\n",
    "import shutil\n",
    "from skimage import io, color, filters\n",
    "from sklearn.preprocessing import MinMaxScaler\n",
    "from sklearn.neighbors import KNeighborsClassifier"
   ]
  },
  {
   "cell_type": "code",
   "execution_count": 2,
   "metadata": {
    "colab": {},
    "colab_type": "code",
    "id": "HNV0fwQJfre2"
   },
   "outputs": [],
   "source": [
    "# Dataset images directory\n",
    "DATASET_IMAGES_PATH = '../dataset-images'\n",
    "\n",
    "# Scaler location\n",
    "SCALER_PATH = '../classifiers/scaler.joblib'\n",
    "\n",
    "# KNN Classifier location\n",
    "KNN_CLASSIFIER_PATH = '../classifiers/knn_classifier.joblib'\n",
    "\n",
    "# The Grid Size used in the dataset\n",
    "GRID_SIZE = 8\n",
    "\n",
    "# Temp directory\n",
    "TEMP_DIR_PATH = '../temp'"
   ]
  },
  {
   "cell_type": "markdown",
   "metadata": {
    "colab_type": "text",
    "id": "KOXUnvOIjIuH"
   },
   "source": [
    "# Helper Functions"
   ]
  },
  {
   "cell_type": "code",
   "execution_count": 3,
   "metadata": {
    "colab": {},
    "colab_type": "code",
    "id": "MCxxo7GljDj4"
   },
   "outputs": [],
   "source": [
    "# Crop an image (size 128x32) into four images (size 32x32)\n",
    "# Returns an array of four cropped images\n",
    "def crop_image(image):\n",
    "  crops = []\n",
    "  for i in range(5):\n",
    "    y1 = 0\n",
    "    y2 = 32\n",
    "    x1 = i * 32\n",
    "    x2 = (i + 1) * 32\n",
    "    crops.append(image[y1:y2, x1:x2])\n",
    "  \n",
    "  return crops"
   ]
  },
  {
   "cell_type": "code",
   "execution_count": 4,
   "metadata": {
    "colab": {},
    "colab_type": "code",
    "id": "SMzn45FRjGhL"
   },
   "outputs": [],
   "source": [
    "# Transform an image to its binary form\n",
    "def to_binary(image):\n",
    "  grey = color.rgb2gray(image)\n",
    "  thresh = filters.threshold_isodata(grey)\n",
    "  return grey < thresh\n",
    "\n",
    "# Get grid based features\n",
    "def to_grid(binary):\n",
    "  grids = []\n",
    "  lg = int(len(binary) / GRID_SIZE)\n",
    "\n",
    "  for row in range(0, GRID_SIZE):\n",
    "    row_of_grids = []\n",
    "    for col in range(0, GRID_SIZE):\n",
    "      grid = []\n",
    "      for y in range(lg*row, lg*row + lg):\n",
    "        for x in range (lg*col, lg*col + lg):\n",
    "          grid.append(binary[y][x])\n",
    "      row_of_grids.append(grid)\n",
    "    grids.append(row_of_grids)\n",
    "  \n",
    "  return grids\n",
    "\n",
    "# Count all positive values in the grid\n",
    "def count_positive(grid):\n",
    "  count = []\n",
    "\n",
    "  for y in range(0, len(grid)):\n",
    "    for x in range(0, len(grid[y])):\n",
    "      sum = np.sum(grid[y][x])\n",
    "      count.append(sum)\n",
    "  \n",
    "  return count\n",
    "\n",
    "# Transform an image into an array of sums of positive\n",
    "# values in the grids\n",
    "def image_to_count(image):\n",
    "  binary = to_binary(image)\n",
    "  grid = to_grid(binary)\n",
    "  positive_count = count_positive(grid)\n",
    "  return positive_count"
   ]
  },
  {
   "cell_type": "markdown",
   "metadata": {
    "colab_type": "text",
    "id": "4qhX8oPjjTWp"
   },
   "source": [
    "# Classification"
   ]
  },
  {
   "cell_type": "code",
   "execution_count": 5,
   "metadata": {
    "colab": {},
    "colab_type": "code",
    "id": "QXw8VTBBjVJz"
   },
   "outputs": [],
   "source": [
    "# Load the preprocessor\n",
    "preproc = load(SCALER_PATH) \n",
    "\n",
    "# Load your final classifier\n",
    "clf = load(KNN_CLASSIFIER_PATH) "
   ]
  },
  {
   "cell_type": "code",
   "execution_count": 6,
   "metadata": {
    "colab": {},
    "colab_type": "code",
    "id": "lCRF7T8OjXK1"
   },
   "outputs": [],
   "source": [
    "  \"\"\"\n",
    "  Load an image from file and predict the four digits in the image.\n",
    "  The result should be an array containing the 4 digits (as string)\n",
    "  \"\"\"\n",
    "def classify_image(filename):\n",
    "    result = list()\n",
    "        \n",
    "    # Load the image from file\n",
    "    img_array = io.imread(filename)\n",
    "    crops = crop_image(img_array)\n",
    "\n",
    "    # For each digit, collect features, preprocess and predict\n",
    "    for i in range(4):\n",
    "      image_crop = crops[i]\n",
    "\n",
    "      X = image_to_count(image_crop)\n",
    "      X_scaled = preproc.transform([X])\n",
    "\n",
    "      Y = clf.predict(X_scaled)\n",
    "      result.append(str(Y[0]))\n",
    "            \n",
    "    return result"
   ]
  },
  {
   "cell_type": "code",
   "execution_count": 7,
   "metadata": {
    "colab": {
     "base_uri": "https://localhost:8080/",
     "height": 51
    },
    "colab_type": "code",
    "executionInfo": {
     "elapsed": 15728,
     "status": "ok",
     "timestamp": 1586513388351,
     "user": {
      "displayName": "Jasper Sijgers",
      "photoUrl": "https://lh3.googleusercontent.com/a-/AOh14GgMV5mgyq6OiBFr7_IG1qHskr3VehldL5sVO79W=s64",
      "userId": "09274429075529465880"
     },
     "user_tz": -120
    },
    "id": "hq7guvNUjX6M",
    "outputId": "cad94e08-593b-4508-90fa-d3940fad19f5"
   },
   "outputs": [
    {
     "name": "stdout",
     "output_type": "stream",
     "text": [
      "Digit accuracy:  0.9895833333333334 ( 1900 / 20 )\n",
      "Zipcode accuracy:  0.9583333333333334 ( 460 / 20 )\n"
     ]
    }
   ],
   "source": [
    "# Outcomes\n",
    "correct_classified_digits = 0\n",
    "incorrect_classified_digits = 0\n",
    "correct_classified_zipcodes = 0\n",
    "incorrect_classified_zipcodes = 0\n",
    "\n",
    "# Score the classifier\n",
    "files = glob.glob(os.path.join(DATASET_IMAGES_PATH, '*.png'))\n",
    "for f in files:\n",
    "    # Get the correct label from the filename\n",
    "    correct_label = f[-8:-4]\n",
    "    # Predict using the classifier\n",
    "    predicted_label = classify_image(f)\n",
    "    \n",
    "    # Score digits\n",
    "    zipcode_correct = True\n",
    "    for i in range(len(correct_label)):\n",
    "        if str(correct_label[i]) == str(predicted_label[i]):\n",
    "            correct_classified_digits += 1\n",
    "        else:\n",
    "            incorrect_classified_digits += 1\n",
    "            zipcode_correct = False\n",
    "    \n",
    "    # Score correct zipcodes\n",
    "    if zipcode_correct:\n",
    "        correct_classified_zipcodes += 1\n",
    "    else:\n",
    "        incorrect_classified_zipcodes += 1\n",
    "\n",
    "print(\"Digit accuracy: \", (correct_classified_digits / (correct_classified_digits + incorrect_classified_digits)), \"(\", correct_classified_digits, \"/\", incorrect_classified_digits, \")\")\n",
    "print(\"Zipcode accuracy: \", (correct_classified_zipcodes / (correct_classified_zipcodes + incorrect_classified_zipcodes)), \"(\", correct_classified_zipcodes, \"/\", incorrect_classified_zipcodes, \")\")        "
   ]
  },
  {
   "cell_type": "markdown",
   "metadata": {
    "colab_type": "text",
    "id": "P7b5-Ab2jop6"
   },
   "source": [
    "# Cleanup"
   ]
  },
  {
   "cell_type": "code",
   "execution_count": 8,
   "metadata": {
    "colab": {
     "base_uri": "https://localhost:8080/",
     "height": 34
    },
    "colab_type": "code",
    "executionInfo": {
     "elapsed": 587,
     "status": "ok",
     "timestamp": 1586513392899,
     "user": {
      "displayName": "Jasper Sijgers",
      "photoUrl": "https://lh3.googleusercontent.com/a-/AOh14GgMV5mgyq6OiBFr7_IG1qHskr3VehldL5sVO79W=s64",
      "userId": "09274429075529465880"
     },
     "user_tz": -120
    },
    "id": "_cU0Tl5Bjp09",
    "outputId": "136a94e8-2728-46d5-cfa4-82066c04413f"
   },
   "outputs": [
    {
     "name": "stdout",
     "output_type": "stream",
     "text": [
      "[WinError 3] The system cannot find the path specified: \"'/content'\"\n",
      "C:\\Users\\Dovydas\\Documents\\Introduction to Machine Learning\\Introduction to Machine Learning\\notebooks\n"
     ]
    }
   ],
   "source": [
    "# # Remove the data downloaded from Github\n",
    "# if os.path.isdir('/cloned-repo'):\n",
    "#   shutil.rmtree('/cloned-repo')\n",
    "\n",
    "# # Remove all data from the /content directory\n",
    "# if os.path.isdir(DATASET_IMAGES_PATH):\n",
    "#   shutil.rmtree(DATASET_IMAGES_PATH)\n",
    "  \n",
    "# if os.path.isfile(KNN_CLASSIFIER_PATH):\n",
    "#   os.remove(KNN_CLASSIFIER_PATH)\n",
    "\n",
    "# if os.path.isfile(TEMP_DIR_PATH):\n",
    "#   os.remove(TEMP_DIR_PATH)\n",
    "  \n",
    "# if os.path.isfile(SCALER_PATH):\n",
    "#   os.remove(SCALER_PATH)"
   ]
  }
 ],
 "metadata": {
  "colab": {
   "collapsed_sections": [],
   "name": "Prediction",
   "provenance": [],
   "toc_visible": true
  },
  "kernelspec": {
   "display_name": "Python 3",
   "language": "python",
   "name": "python3"
  },
  "language_info": {
   "codemirror_mode": {
    "name": "ipython",
    "version": 3
   },
   "file_extension": ".py",
   "mimetype": "text/x-python",
   "name": "python",
   "nbconvert_exporter": "python",
   "pygments_lexer": "ipython3",
   "version": "3.7.4"
  }
 },
 "nbformat": 4,
 "nbformat_minor": 1
}
