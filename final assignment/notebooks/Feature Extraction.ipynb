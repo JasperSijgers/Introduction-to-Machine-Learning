{
 "cells": [
  {
   "cell_type": "markdown",
   "metadata": {
    "colab_type": "text",
    "id": "niCBgBrjOXiK"
   },
   "source": [
    "# Imports and Configuration"
   ]
  },
  {
   "cell_type": "code",
   "execution_count": 1,
   "metadata": {
    "colab": {},
    "colab_type": "code",
    "id": "JWmrYyWiN5Vj"
   },
   "outputs": [],
   "source": [
    "import os\n",
    "import numpy as np\n",
    "import pandas as pd\n",
    "\n",
    "import shutil\n",
    "from skimage import io, color, filters, util, measure"
   ]
  },
  {
   "cell_type": "code",
   "execution_count": 2,
   "metadata": {
    "colab": {},
    "colab_type": "code",
    "id": "gXHNjnJhOFI4"
   },
   "outputs": [],
   "source": [
    "# Dataset images directory\n",
    "DATASET_IMAGES_PATH = '../dataset-images'\n",
    "\n",
    "# Grid-based dataset csv file\n",
    "DATASET_CSV_PATH = '../dataset-numpy'\n",
    "\n",
    "# Cropped images directory\n",
    "CROPPED_IMAGES_PATH = '../cropped-images'\n",
    "\n",
    "# Temp directory\n",
    "TEMP_DIR_PATH = '../temp'"
   ]
  },
  {
   "cell_type": "markdown",
   "metadata": {
    "colab_type": "text",
    "id": "Su7S7TonOMVE"
   },
   "source": [
    "# Splitting Images\n",
    "While the end result of the assignment is to classify postal codes (four numbers written next to one another), classifiying postal codes as a whole isn't a good idea due to the (very) limited number of training samples we have for them. For this reason, the postal codes will be split up into four images, each containing a single number. These numbers can then be used for training purposes.\n",
    "\n",
    "During classification, we will once again split the number into four digits, and classify each of them separately."
   ]
  },
  {
   "cell_type": "code",
   "execution_count": 3,
   "metadata": {
    "colab": {},
    "colab_type": "code",
    "id": "ndD01MudOOpG"
   },
   "outputs": [],
   "source": [
    "# Crop an image (size 128x32) into four images (size 32x32)\n",
    "# Returns an array of four cropped images\n",
    "def crop_image(image):\n",
    "  crops = []\n",
    "  for i in range(5):\n",
    "    y1 = 0\n",
    "    y2 = 32\n",
    "    x1 = i * 32\n",
    "    x2 = (i + 1) * 32\n",
    "    crops.append(image[y1:y2, x1:x2])\n",
    "  \n",
    "  return crops"
   ]
  },
  {
   "cell_type": "code",
   "execution_count": 4,
   "metadata": {
    "colab": {},
    "colab_type": "code",
    "id": "ZqvLTSBxOPSV"
   },
   "outputs": [],
   "source": [
    "# Create the directory structure\n",
    "if not os.path.isdir(DATASET_CSV_PATH):\n",
    "  os.mkdir(DATASET_CSV_PATH)\n",
    "\n",
    "if not os.path.isdir(TEMP_DIR_PATH):\n",
    "  os.mkdir(TEMP_DIR_PATH)\n",
    "  \n",
    "if not os.path.isdir(CROPPED_IMAGES_PATH):\n",
    "  os.mkdir(CROPPED_IMAGES_PATH)\n",
    "  \n",
    "  for i in range (0, 10):\n",
    "    os.mkdir(CROPPED_IMAGES_PATH + '/' + str(i))"
   ]
  },
  {
   "cell_type": "code",
   "execution_count": 5,
   "metadata": {
    "colab": {},
    "colab_type": "code",
    "id": "RNR7vUZkOQtu"
   },
   "outputs": [],
   "source": [
    "# Store the file name (integer, without extension) for the last file saved in the folders 0-9\n",
    "last_filename = [0, 0, 0, 0, 0, 0, 0, 0, 0, 0]\n",
    "\n",
    "# Save the image to file in the directory with the specified label\n",
    "def save_image(image, label):\n",
    "  path = CROPPED_IMAGES_PATH + '/' + label + \"/\" + str(last_filename[int(label)]) + \".jpg\"\n",
    "  io.imsave(path, image)\n",
    "  last_filename[int(label)] += 1"
   ]
  },
  {
   "cell_type": "code",
   "execution_count": 6,
   "metadata": {
    "colab": {},
    "colab_type": "code",
    "id": "m8vopfRtOSvH"
   },
   "outputs": [],
   "source": [
    "# For each image in the dataset, crop it and write its four\n",
    "# resulting images to files\n",
    "for file in os.listdir(DATASET_IMAGES_PATH):\n",
    "  image = io.imread(DATASET_IMAGES_PATH + '/' + file)\n",
    "  labels = list(file.split(\".\")[0])\n",
    "\n",
    "  crops = crop_image(image)\n",
    "  for i in range(4):\n",
    "    save_image(crops[i], labels[i])"
   ]
  },
  {
   "cell_type": "markdown",
   "metadata": {
    "colab_type": "text",
    "id": "35uQ0K2hOJz0"
   },
   "source": [
    "# Feature Extraction"
   ]
  },
  {
   "cell_type": "markdown",
   "metadata": {
    "colab_type": "text",
    "id": "z4-jViWoRi5f"
   },
   "source": [
    "## Grid Based Features\n",
    "For this section, we'll be creating a dataset on grid based features. Basically, this means we'll be dividing the image into several squares and counting the number of pixels (that are part of the written number) are in each square."
   ]
  },
  {
   "cell_type": "markdown",
   "metadata": {
    "colab_type": "text",
    "id": "bc7fcc_mRsQp"
   },
   "source": [
    "In order to create the dataset, a few helper functions are required:\n",
    "\n",
    "Firstly, we'll transform the image into binary to easily differentiate between pixeles that are and aren't part of the written number. For this, a threshold will be used.\n",
    "\n",
    "Secondly, we'll use a to_grid() function that takes in the binary image and splits it up into several squares. This function takes the grid_size as input, to determine how many squares it should divide the image up into. A grid size of 8 would result in an 8x8 grid, meaning 64 squares.\n",
    "\n",
    "Lastly, the count_positive() function takes the grid as input and counts all the \"positive\" pixels (pixels that are part of the written digit). This function outputs the total number of positive pixels per grid as an array. An image in an 8x8 grid would be turned into an array of 64 integers.\n",
    "\n",
    "To make this easier to use, a function is defined that takes in a regular image (of a single handwritten digit), pipes it through all the functions described above, and returns the the final array from count_positive().\n"
   ]
  },
  {
   "cell_type": "code",
   "execution_count": 7,
   "metadata": {
    "colab": {},
    "colab_type": "code",
    "id": "ZNF2EzzERqyr"
   },
   "outputs": [],
   "source": [
    "# Transform an image to its binary form\n",
    "def to_binary(image):\n",
    "  grey = color.rgb2gray(image)\n",
    "  thresh = filters.threshold_isodata(grey)\n",
    "  return grey < thresh\n",
    "\n",
    "# Get grid based features\n",
    "def to_grid(binary, grid_size):\n",
    "  grids = []\n",
    "  lg = int(len(binary) / grid_size)\n",
    "\n",
    "  for row in range(0, grid_size):\n",
    "    row_of_grids = []\n",
    "    for col in range(0, grid_size):\n",
    "      grid = []\n",
    "      for y in range(lg*row, lg*row + lg):\n",
    "        for x in range (lg*col, lg*col + lg):\n",
    "          grid.append(binary[y][x])\n",
    "      row_of_grids.append(grid)\n",
    "    grids.append(row_of_grids)\n",
    "  \n",
    "  return grids\n",
    "\n",
    "# Count all positive values in the grid\n",
    "def count_positive(grid):\n",
    "  count = []\n",
    "\n",
    "  for y in range(0, len(grid)):\n",
    "    for x in range(0, len(grid[y])):\n",
    "      sum = np.sum(grid[y][x])\n",
    "      count.append(sum)\n",
    "  \n",
    "  return count\n",
    "\n",
    "# Transform an image into an array of sums of positive\n",
    "# values in the grids\n",
    "def image_to_count(image, grid_size):\n",
    "  binary = to_binary(image)\n",
    "  grid = to_grid(binary, grid_size)\n",
    "  positive_count = count_positive(grid)\n",
    "  return positive_count"
   ]
  },
  {
   "cell_type": "markdown",
   "metadata": {
    "colab_type": "text",
    "id": "OhFrMFoaTt0W"
   },
   "source": [
    "With the required functionality taken care of, we need to actually take all the images and translate them into the arrays described above. Then we need to take the data we created, and write it to file to be used later.\n",
    "\n",
    "We'll create a file writer at the path defined in the configuration section, write a header for clarification and then loop through all the cropped images we created earlier. We'll then turn the images into arrays using the image_to_count() function, and write it to the file in CSV format:\n",
    "\n",
    "image_label,count1,count2,count3,count4,..."
   ]
  },
  {
   "cell_type": "code",
   "execution_count": 8,
   "metadata": {
    "colab": {},
    "colab_type": "code",
    "id": "z9DSOnzUTtfv"
   },
   "outputs": [],
   "source": [
    "def create_dataset(grid_size):\n",
    "\n",
    "  # Create a file writer\n",
    "  f = open(DATASET_CSV_PATH + '/grid_dataset_' + str(grid_size) + '.csv', 'w')\n",
    "\n",
    "  # Write a file header\n",
    "  f.write('label')\n",
    "  for i in range(1,(grid_size**2 + 1)):\n",
    "    f.write(',sum_' + str(i))\n",
    "  f.write('\\r\\n')\n",
    "\n",
    "  # Loop through all the cropped images, transform them into counts, and write the output to a file\n",
    "  for i in range(0,10):\n",
    "    dir = CROPPED_IMAGES_PATH + '/' + str(i) + \"/\"\n",
    "    for file in os.listdir(dir):\n",
    "      file_path = dir + file\n",
    "      image = io.imread(file_path)\n",
    "      image_count = image_to_count(image, grid_size)\n",
    "\n",
    "      # Write the label to the file\n",
    "      f.write(str(i))\n",
    "    \n",
    "      # Write all sums to the file, separated by a comma\n",
    "      for count in image_count:\n",
    "          f.write(',')\n",
    "          f.write(str(count))\n",
    "    \n",
    "      # Go to the next line in the file\n",
    "      f.write('\\r\\n')\n",
    "\n",
    "  # Close the file writer\n",
    "  f.close()"
   ]
  },
  {
   "cell_type": "markdown",
   "metadata": {
    "colab_type": "text",
    "id": "yqbKbtOLOLDn"
   },
   "source": [
    "For every possible grid type, run the create_dataset() function. This allows us to compare the accuracy of each dataset in a later stage."
   ]
  },
  {
   "cell_type": "code",
   "execution_count": 9,
   "metadata": {
    "colab": {},
    "colab_type": "code",
    "id": "eufTys1ROKfb"
   },
   "outputs": [],
   "source": [
    "for i in [1, 2, 4, 8, 16, 32]:\n",
    "  create_dataset(i)"
   ]
  },
  {
   "cell_type": "markdown",
   "metadata": {
    "colab_type": "text",
    "id": "-OnSjbUEVVCu"
   },
   "source": [
    "## Image Based Features"
   ]
  },
  {
   "cell_type": "markdown",
   "metadata": {
    "colab_type": "text",
    "id": "M9b5sRBXA32a"
   },
   "source": [
    "Author: Dovydas Valiulis 436254"
   ]
  },
  {
   "cell_type": "markdown",
   "metadata": {
    "colab_type": "text",
    "id": "Lc5lV3rjOSsD"
   },
   "source": [
    "To gather features from the image first, we have to do image preprocessing. The first step is to convert the RGB image into a grayscale image. After that, we apply a gaussian filter to blur an image to make digit more uniform and make sure that the digit area does not have small holes. Next, we calculate the threshold for an image where we can separate digit from the background. After that, we apply the threshold to a greyscale image to get a binary representation of an image. We invert the binary image to label area of the digit instead of the area of the background. Finally, we create label from an inverted binary image from which we can gather various features."
   ]
  },
  {
   "cell_type": "markdown",
   "metadata": {
    "colab_type": "text",
    "id": "AUjCTb6iOVlv"
   },
   "source": [
    "We have decided to select 15 features from the region of a digit.\n",
    "1. Area - an area of the region\n",
    "2. Perimeter - the perimeter of the region\n",
    "3. Orientation - the angle between the x-axis(row) and the major axis. value can be between -90 to 90 degrees\n",
    "4. Euler's number - number of regions minus the number of holes in those regions\n",
    "5. Major axis length - length of the major axis of the region\n",
    "6. Bounding box area - an area of the box that encloses a region \n",
    "7. Centroid - the center of mass of the region. value as a tuple (x coordinate, y coordinate)\n",
    "8. Eccentricity - the ratio of the distance between the foci and major axis length. values range from 0 to 1\n",
    "9. Bounding box - coordinates of the bounding box. value is a list of four items\n",
    "10. Convex area - number of pixels in ConvexImage.\n",
    "11. Equivalent diameter - diameter of a circle with the same area as the region\n",
    "12. Extent - the ratio between pixels in the bounding box and pixels in the region\n",
    "13. Filled area - the area of the region with its all holes filled in\n",
    "14. Minor axis length - length of the minor axis of the region\n",
    "15. Solidity - area divided by convex area"
   ]
  },
  {
   "cell_type": "code",
   "execution_count": 10,
   "metadata": {
    "colab": {},
    "colab_type": "code",
    "id": "MOlvWa9hBpDH"
   },
   "outputs": [],
   "source": [
    "# Method that extracts image properties from an image and returns dataframe of features of that image\n",
    "def get_image_props(image):\n",
    "    # Finding out region of an object\n",
    "    grey = color.rgb2gray(image)\n",
    "    blur = filters.gaussian(grey, 2)\n",
    "    thresh = filters.threshold_otsu(blur)\n",
    "    binary = grey > thresh\n",
    "    inverted_binary = util.invert(binary)\n",
    "    label_image = measure.label(inverted_binary)\n",
    "    \n",
    "    # features to be selected from the region properties\n",
    "    prop_names = ['area', 'perimeter', 'orientation', 'euler_number', 'major_axis_length', 'bbox_area', 'centroid', 'eccentricity', 'bbox', 'convex_area', 'equivalent_diameter', 'extent', 'filled_area', 'minor_axis_length', 'solidity']\n",
    "    result = []\n",
    "    \n",
    "    # extracting features from the region properties \n",
    "    for prop in measure.regionprops(label_image):\n",
    "        result.append([prop[col] for col in prop_names])\n",
    "        \n",
    "    # puting region properties into dataframe\n",
    "    df = pd.DataFrame(result, columns=prop_names)\n",
    "    \n",
    "    # Splitting centroid feature tuple into seperate entries in the dataframe\n",
    "    temp = df['centroid'].apply(pd.Series)\n",
    "    df['centroid-0'], df['centroid-1'] = temp[0], temp[1]\n",
    "    df = df.drop(['centroid'], axis=1)\n",
    "    \n",
    "    # Splitting bounding box feature list into seperate entries in the dataframe\n",
    "    temp = df['bbox'].apply(pd.Series)\n",
    "    df['bbox-0'], df['bbox-1'], df['bbox-2'], df['bbox-3'] = temp[0], temp[1], temp[2], temp[3]\n",
    "    df = df.drop(['bbox'], axis=1)\n",
    "    \n",
    "    return df"
   ]
  },
  {
   "cell_type": "markdown",
   "metadata": {
    "colab_type": "text",
    "id": "6-_kQn6lO_v4"
   },
   "source": [
    "After we decided what feature to collect from the image we load all images and gather features of each image. We store these features in pandas dataframe to easily visualize properties of the dataset and easily gather statistics of this dataset."
   ]
  },
  {
   "cell_type": "code",
   "execution_count": 11,
   "metadata": {
    "colab": {},
    "colab_type": "code",
    "id": "xkRfDfm-Bo-p"
   },
   "outputs": [],
   "source": [
    "# Method that loads all croped images of the number specified \n",
    "# returns dataframe of all properties of all images of specified number and adds labels to that datafrane\n",
    "def load_all_number_image_props(img_no):\n",
    "    images = io.imread_collection(\"{}/{}/*.jpg\".format(CROPPED_IMAGES_PATH, img_no))\n",
    "    image_props = [get_image_props(image) for image in images]\n",
    "    df = pd.concat(image_props, ignore_index=True)\n",
    "    df['label'] = img_no\n",
    "    return df"
   ]
  },
  {
   "cell_type": "code",
   "execution_count": 12,
   "metadata": {
    "colab": {},
    "colab_type": "code",
    "id": "rVs7PaImBo7B",
    "scrolled": true
   },
   "outputs": [
    {
     "name": "stderr",
     "output_type": "stream",
     "text": [
      "C:\\Users\\Dovydas\\Anaconda3\\lib\\site-packages\\skimage\\measure\\_regionprops.py:250: UserWarning: regionprops and image moments (including moments, normalized moments, central moments, and inertia tensor) of 2D images will change from xy coordinates to rc coordinates in version 0.16.\n",
      "See https://scikit-image.org/docs/0.14.x/release_notes_and_installation.html#deprecations for details on how to avoid this message.\n",
      "  warn(XY_TO_RC_DEPRECATION_MESSAGE)\n",
      "C:\\Users\\Dovydas\\Anaconda3\\lib\\site-packages\\skimage\\measure\\_regionprops.py:260: UserWarning: regionprops and image moments (including moments, normalized moments, central moments, and inertia tensor) of 2D images will change from xy coordinates to rc coordinates in version 0.16.\n",
      "See https://scikit-image.org/docs/0.14.x/release_notes_and_installation.html#deprecations for details on how to avoid this message.\n",
      "  warn(XY_TO_RC_DEPRECATION_MESSAGE)\n"
     ]
    }
   ],
   "source": [
    "# Combine all single digit dataframes into one dataframe\n",
    "digit_data = [load_all_number_image_props(i) for i in range(10)]\n",
    "df = pd.concat(digit_data, ignore_index=True)"
   ]
  },
  {
   "cell_type": "code",
   "execution_count": 13,
   "metadata": {
    "colab": {
     "base_uri": "https://localhost:8080/",
     "height": 241
    },
    "colab_type": "code",
    "executionInfo": {
     "elapsed": 888,
     "status": "ok",
     "timestamp": 1586540939955,
     "user": {
      "displayName": "Dovydas Valiulis",
      "photoUrl": "",
      "userId": "15268906399653486759"
     },
     "user_tz": -120
    },
    "id": "GjB3RHASBo24",
    "outputId": "184fbd5b-2b9f-423e-8793-fde2d5353c55"
   },
   "outputs": [
    {
     "data": {
      "text/html": [
       "<div>\n",
       "<style scoped>\n",
       "    .dataframe tbody tr th:only-of-type {\n",
       "        vertical-align: middle;\n",
       "    }\n",
       "\n",
       "    .dataframe tbody tr th {\n",
       "        vertical-align: top;\n",
       "    }\n",
       "\n",
       "    .dataframe thead th {\n",
       "        text-align: right;\n",
       "    }\n",
       "</style>\n",
       "<table border=\"1\" class=\"dataframe\">\n",
       "  <thead>\n",
       "    <tr style=\"text-align: right;\">\n",
       "      <th></th>\n",
       "      <th>area</th>\n",
       "      <th>perimeter</th>\n",
       "      <th>orientation</th>\n",
       "      <th>euler_number</th>\n",
       "      <th>major_axis_length</th>\n",
       "      <th>bbox_area</th>\n",
       "      <th>eccentricity</th>\n",
       "      <th>convex_area</th>\n",
       "      <th>equivalent_diameter</th>\n",
       "      <th>extent</th>\n",
       "      <th>filled_area</th>\n",
       "      <th>minor_axis_length</th>\n",
       "      <th>solidity</th>\n",
       "      <th>centroid-0</th>\n",
       "      <th>centroid-1</th>\n",
       "      <th>bbox-0</th>\n",
       "      <th>bbox-1</th>\n",
       "      <th>bbox-2</th>\n",
       "      <th>bbox-3</th>\n",
       "      <th>label</th>\n",
       "    </tr>\n",
       "  </thead>\n",
       "  <tbody>\n",
       "    <tr>\n",
       "      <td>0</td>\n",
       "      <td>291</td>\n",
       "      <td>145.639610</td>\n",
       "      <td>-1.519531</td>\n",
       "      <td>0</td>\n",
       "      <td>36.387393</td>\n",
       "      <td>620</td>\n",
       "      <td>0.757596</td>\n",
       "      <td>501</td>\n",
       "      <td>19.248707</td>\n",
       "      <td>0.469355</td>\n",
       "      <td>483</td>\n",
       "      <td>23.750934</td>\n",
       "      <td>0.580838</td>\n",
       "      <td>16.491409</td>\n",
       "      <td>15.326460</td>\n",
       "      <td>1</td>\n",
       "      <td>6</td>\n",
       "      <td>32</td>\n",
       "      <td>26</td>\n",
       "      <td>0</td>\n",
       "    </tr>\n",
       "    <tr>\n",
       "      <td>1</td>\n",
       "      <td>1</td>\n",
       "      <td>0.000000</td>\n",
       "      <td>0.785398</td>\n",
       "      <td>1</td>\n",
       "      <td>0.000000</td>\n",
       "      <td>1</td>\n",
       "      <td>0.000000</td>\n",
       "      <td>1</td>\n",
       "      <td>1.128379</td>\n",
       "      <td>1.000000</td>\n",
       "      <td>1</td>\n",
       "      <td>0.000000</td>\n",
       "      <td>1.000000</td>\n",
       "      <td>3.000000</td>\n",
       "      <td>23.000000</td>\n",
       "      <td>3</td>\n",
       "      <td>23</td>\n",
       "      <td>4</td>\n",
       "      <td>24</td>\n",
       "      <td>0</td>\n",
       "    </tr>\n",
       "    <tr>\n",
       "      <td>2</td>\n",
       "      <td>299</td>\n",
       "      <td>149.053824</td>\n",
       "      <td>-1.451364</td>\n",
       "      <td>0</td>\n",
       "      <td>37.480758</td>\n",
       "      <td>672</td>\n",
       "      <td>0.778776</td>\n",
       "      <td>522</td>\n",
       "      <td>19.511500</td>\n",
       "      <td>0.444940</td>\n",
       "      <td>496</td>\n",
       "      <td>23.511758</td>\n",
       "      <td>0.572797</td>\n",
       "      <td>16.170569</td>\n",
       "      <td>15.381271</td>\n",
       "      <td>0</td>\n",
       "      <td>6</td>\n",
       "      <td>32</td>\n",
       "      <td>27</td>\n",
       "      <td>0</td>\n",
       "    </tr>\n",
       "    <tr>\n",
       "      <td>3</td>\n",
       "      <td>1</td>\n",
       "      <td>0.000000</td>\n",
       "      <td>0.785398</td>\n",
       "      <td>1</td>\n",
       "      <td>0.000000</td>\n",
       "      <td>1</td>\n",
       "      <td>0.000000</td>\n",
       "      <td>1</td>\n",
       "      <td>1.128379</td>\n",
       "      <td>1.000000</td>\n",
       "      <td>1</td>\n",
       "      <td>0.000000</td>\n",
       "      <td>1.000000</td>\n",
       "      <td>20.000000</td>\n",
       "      <td>4.000000</td>\n",
       "      <td>20</td>\n",
       "      <td>4</td>\n",
       "      <td>21</td>\n",
       "      <td>5</td>\n",
       "      <td>0</td>\n",
       "    </tr>\n",
       "    <tr>\n",
       "      <td>4</td>\n",
       "      <td>342</td>\n",
       "      <td>155.053824</td>\n",
       "      <td>-1.478323</td>\n",
       "      <td>0</td>\n",
       "      <td>38.171582</td>\n",
       "      <td>704</td>\n",
       "      <td>0.729963</td>\n",
       "      <td>579</td>\n",
       "      <td>20.867389</td>\n",
       "      <td>0.485795</td>\n",
       "      <td>562</td>\n",
       "      <td>26.089783</td>\n",
       "      <td>0.590674</td>\n",
       "      <td>15.479532</td>\n",
       "      <td>15.342105</td>\n",
       "      <td>0</td>\n",
       "      <td>5</td>\n",
       "      <td>32</td>\n",
       "      <td>27</td>\n",
       "      <td>0</td>\n",
       "    </tr>\n",
       "  </tbody>\n",
       "</table>\n",
       "</div>"
      ],
      "text/plain": [
       "   area   perimeter  orientation  euler_number  major_axis_length  bbox_area  \\\n",
       "0   291  145.639610    -1.519531             0          36.387393        620   \n",
       "1     1    0.000000     0.785398             1           0.000000          1   \n",
       "2   299  149.053824    -1.451364             0          37.480758        672   \n",
       "3     1    0.000000     0.785398             1           0.000000          1   \n",
       "4   342  155.053824    -1.478323             0          38.171582        704   \n",
       "\n",
       "   eccentricity  convex_area  equivalent_diameter    extent  filled_area  \\\n",
       "0      0.757596          501            19.248707  0.469355          483   \n",
       "1      0.000000            1             1.128379  1.000000            1   \n",
       "2      0.778776          522            19.511500  0.444940          496   \n",
       "3      0.000000            1             1.128379  1.000000            1   \n",
       "4      0.729963          579            20.867389  0.485795          562   \n",
       "\n",
       "   minor_axis_length  solidity  centroid-0  centroid-1  bbox-0  bbox-1  \\\n",
       "0          23.750934  0.580838   16.491409   15.326460       1       6   \n",
       "1           0.000000  1.000000    3.000000   23.000000       3      23   \n",
       "2          23.511758  0.572797   16.170569   15.381271       0       6   \n",
       "3           0.000000  1.000000   20.000000    4.000000      20       4   \n",
       "4          26.089783  0.590674   15.479532   15.342105       0       5   \n",
       "\n",
       "   bbox-2  bbox-3  label  \n",
       "0      32      26      0  \n",
       "1       4      24      0  \n",
       "2      32      27      0  \n",
       "3      21       5      0  \n",
       "4      32      27      0  "
      ]
     },
     "execution_count": 13,
     "metadata": {},
     "output_type": "execute_result"
    }
   ],
   "source": [
    "# Looking at how final data set looks like\n",
    "df.head()"
   ]
  },
  {
   "cell_type": "markdown",
   "metadata": {
    "colab_type": "text",
    "id": "aWfQ4KqaPEYW"
   },
   "source": [
    "Finally, we export our dataset into a temp folder to use it in the later stage of the assignment."
   ]
  },
  {
   "cell_type": "code",
   "execution_count": 14,
   "metadata": {
    "colab": {},
    "colab_type": "code",
    "id": "BEDLMwBtBoyJ"
   },
   "outputs": [],
   "source": [
    "# export dataframe so it can be used in feature analysis\n",
    "if not os.path.isdir(TEMP_DIR_PATH + \"/datasets\"):\n",
    "  os.mkdir(TEMP_DIR_PATH + \"/datasets\")\n",
    "\n",
    "df.to_pickle(TEMP_DIR_PATH + \"/datasets/initial-image-feature-dataset.pkl\")"
   ]
  },
  {
   "cell_type": "markdown",
   "metadata": {
    "colab_type": "text",
    "id": "Fy2FFlBGQkLm"
   },
   "source": [
    "# Cleanup\n",
    "Running this code will remove all data (both retrieved from Github and created afterwards) from the runtime, ensuring we're working with all \"new\" data every time."
   ]
  },
  {
   "cell_type": "code",
   "execution_count": 15,
   "metadata": {
    "colab": {
     "base_uri": "https://localhost:8080/",
     "height": 34
    },
    "colab_type": "code",
    "executionInfo": {
     "elapsed": 857,
     "status": "ok",
     "timestamp": 1586540856412,
     "user": {
      "displayName": "Dovydas Valiulis",
      "photoUrl": "",
      "userId": "15268906399653486759"
     },
     "user_tz": -120
    },
    "id": "vRGJY7kyQli-",
    "outputId": "1b9bffa9-45b6-47a7-9d4a-47cdbc33b6bd"
   },
   "outputs": [],
   "source": [
    "# # Remove all data from the /content directory\n",
    "\n",
    "# if os.path.isdir(CROPPED_IMAGES_PATH):\n",
    "#   shutil.rmtree(CROPPED_IMAGES_PATH)\n",
    "\n",
    "# if os.path.isdir(TEMP_DIR_PATH):\n",
    "#   shutil.rmtree(TEMP_DIR_PATH)  \n",
    "  \n",
    "# if os.path.isdir(DATASET_CSV_PATH):\n",
    "#   shutil.rmtree(DATASET_CSV_PATH)"
   ]
  },
  {
   "cell_type": "code",
   "execution_count": null,
   "metadata": {},
   "outputs": [],
   "source": []
  }
 ],
 "metadata": {
  "celltoolbar": "Raw Cell Format",
  "colab": {
   "collapsed_sections": [],
   "name": "Feature Extraction",
   "provenance": [],
   "toc_visible": true
  },
  "kernelspec": {
   "display_name": "Python 3",
   "language": "python",
   "name": "python3"
  },
  "language_info": {
   "codemirror_mode": {
    "name": "ipython",
    "version": 3
   },
   "file_extension": ".py",
   "mimetype": "text/x-python",
   "name": "python",
   "nbconvert_exporter": "python",
   "pygments_lexer": "ipython3",
   "version": "3.7.4"
  }
 },
 "nbformat": 4,
 "nbformat_minor": 1
}
