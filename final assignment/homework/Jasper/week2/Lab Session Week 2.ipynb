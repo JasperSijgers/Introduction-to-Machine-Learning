{
 "cells": [
  {
   "cell_type": "markdown",
   "metadata": {},
   "source": [
    "# Lab session week 2: NumPy, Pandas\n",
    "\n",
    "Last week you learned how to work with Matplotlib. This week we will extend your basic scientific python knowledge by looking at NumPy and Pandas.\n",
    "\n",
    "NumPy is the fundamental package for scientific computing with Python. It contains n-dimensional arrays, sophisticated functions and linear algebra operations.\n",
    "\n",
    "Pandas is an easy-to-use high-performant data-structures and data analysis tool.\n",
    "\n",
    "In this lab session you will work with these libraries and explore the basics."
   ]
  },
  {
   "cell_type": "code",
   "execution_count": 1,
   "metadata": {},
   "outputs": [],
   "source": [
    "# First we import the libraries that we need\n",
    "from IPython.display import HTML, IFrame\n",
    "import numpy as np\n",
    "import pandas as pd\n",
    "import matplotlib\n",
    "import matplotlib.pyplot as plt\n",
    "%matplotlib inline\n",
    "\n",
    "# Config: size of the figures\n",
    "matplotlib.rcParams['figure.figsize'] = [10, 6]"
   ]
  },
  {
   "cell_type": "markdown",
   "metadata": {},
   "source": [
    "## Data-structures in Python\n",
    "\n",
    "### Exercise 1: exploring the default data structures\n",
    "Python has 5 default structures: lists, tuples, dicts, sets and frozensets. Find you what the difference is between them and try them out. Try also to convert from one type to the other."
   ]
  },
  {
   "cell_type": "code",
   "execution_count": 12,
   "metadata": {},
   "outputs": [
    {
     "name": "stdout",
     "output_type": "stream",
     "text": [
      "[1, 2, 3, 4, 5]\n",
      "(1, 2, 'test')\n",
      "{'a': 'b', 'b': 'c', 'c': 'd'}\n",
      "{'f', 'd', 'c', 'a', 'e', 'b', 'g'}\n",
      "frozenset({'f', 'a', 'd', 'c', 'e', 'b', 'g'})\n"
     ]
    }
   ],
   "source": [
    "# Python list\n",
    "my_list = [1, 2, 3, 4, 5]\n",
    "print(my_list)\n",
    "\n",
    "# A tuple is a sequence of immutable Python objects. Tuples are sequences, just like lists. \n",
    "# The differences between tuples and lists are, the tuples cannot be changed unlike lists and \n",
    "# tuples use parentheses, whereas lists use square brackets.\n",
    "my_tuple = (1, 2, \"test\")\n",
    "print(my_tuple)\n",
    "\n",
    "# A dictionary is a collection which is unordered, changeable and indexed. In Python dictionaries \n",
    "# are written with curly brackets, and they have keys and values.\n",
    "# So basically just a JSON object?\n",
    "my_dict = {'a': 'b', 'b': 'c', 'c': 'd'}\n",
    "print(my_dict)\n",
    "\n",
    "# Python Set\n",
    "# Sets are unordered (so values have no indices, once a set is created, you cannot change its \n",
    "# items, but you can add new items (using .add(item) or .update(item, item, item).\n",
    "my_set = {\"a\", \"b\", \"c\"}\n",
    "my_set.add(\"d\")\n",
    "my_set.update(\"e\", \"f\", \"g\")\n",
    "print(my_set)\n",
    "\n",
    "# Frozen set is just an immutable version of a Python set object. While elements of a set can be \n",
    "# modified at any time, elements of frozen set remains the same after creation.\n",
    "my_frozen_set = frozenset(my_set)\n",
    "# my_frozen_set.add(\"h\") doesn't work > immutable\n",
    "print(my_frozen_set)"
   ]
  },
  {
   "cell_type": "markdown",
   "metadata": {},
   "source": [
    "## Exploring NumPy\n",
    "Complete the following exercises. It might be useful to use the following cheatsheet: https://s3.amazonaws.com/assets.datacamp.com/blog_assets/Numpy_Python_Cheat_Sheet.pdf"
   ]
  },
  {
   "cell_type": "markdown",
   "metadata": {},
   "source": [
    "### Exercise 2: Creating arrays and selecting/replacing values"
   ]
  },
  {
   "cell_type": "markdown",
   "metadata": {},
   "source": [
    "#### Exercise 2.1: Create an NumPy array with the numbers 1 to 9.\n",
    "Please do this exercise in two ways:\n",
    "1. by converting a python array into a numpy array\n",
    "2. by creating a NumPy array with NumPy methods"
   ]
  },
  {
   "cell_type": "code",
   "execution_count": 26,
   "metadata": {
    "scrolled": true
   },
   "outputs": [
    {
     "name": "stdout",
     "output_type": "stream",
     "text": [
      "[1 2 3 4 5 6 7 8 9]\n",
      "[1 2 3 4 5 6 7 8 9]\n",
      "[1 2 3 4 5 6 7 8 9]\n"
     ]
    }
   ],
   "source": [
    "array_one = np.array([1, 2, 3, 4, 5, 6, 7, 8, 9])\n",
    "print(array_one)\n",
    "\n",
    "array_two = np.array(range(1,10))\n",
    "print(array_two)\n",
    "\n",
    "array_three = np.linspace(1, 9, 9, dtype=int)\n",
    "print(array_three)"
   ]
  },
  {
   "cell_type": "markdown",
   "metadata": {},
   "source": [
    "#### Exercise 2.2: Create an NumPy matrix of size 3x2 with random values"
   ]
  },
  {
   "cell_type": "code",
   "execution_count": 30,
   "metadata": {},
   "outputs": [
    {
     "name": "stdout",
     "output_type": "stream",
     "text": [
      "[[0.73858397 0.41974348]\n",
      " [0.27643578 0.64429035]\n",
      " [0.3853275  0.53392527]]\n"
     ]
    }
   ],
   "source": [
    "matrix = np.random.random((3,2))\n",
    "print(matrix)"
   ]
  },
  {
   "cell_type": "markdown",
   "metadata": {},
   "source": [
    "#### Exercise 2.3: Create a boolean matrix of size 4x3 with values False"
   ]
  },
  {
   "cell_type": "code",
   "execution_count": 31,
   "metadata": {
    "scrolled": true
   },
   "outputs": [
    {
     "name": "stdout",
     "output_type": "stream",
     "text": [
      "[[False False]\n",
      " [False False]\n",
      " [False False]]\n"
     ]
    }
   ],
   "source": [
    "matrix = np.full((3,2), False)\n",
    "print(matrix)"
   ]
  },
  {
   "cell_type": "markdown",
   "metadata": {},
   "source": [
    "In the next exercises we will reuse the array of exercise 2.1.\n",
    "\n",
    "#### Exercise 2.4: Select all values larger than 5 and show these values"
   ]
  },
  {
   "cell_type": "code",
   "execution_count": 50,
   "metadata": {
    "scrolled": true
   },
   "outputs": [
    {
     "name": "stdout",
     "output_type": "stream",
     "text": [
      "[1 2 3 4 5 6 7 8 9]\n",
      "[6 7 8 9]\n"
     ]
    }
   ],
   "source": [
    "arr = np.array(range(1,10))\n",
    "print(arr)\n",
    "print(arr[arr > 5])"
   ]
  },
  {
   "cell_type": "markdown",
   "metadata": {},
   "source": [
    "#### Exercise 2.5: Replace all values larger than 5 by 1"
   ]
  },
  {
   "cell_type": "code",
   "execution_count": 53,
   "metadata": {
    "scrolled": true
   },
   "outputs": [
    {
     "name": "stdout",
     "output_type": "stream",
     "text": [
      "[1 2 3 4 5 6 7 8 9]\n",
      "[1 2 3 4 5 1 1 1 1]\n"
     ]
    }
   ],
   "source": [
    "arr = np.array(range(1,10))\n",
    "print(arr)\n",
    "arr[arr > 5] = 1\n",
    "print(arr)"
   ]
  },
  {
   "cell_type": "markdown",
   "metadata": {},
   "source": [
    "In the following exercises we will reuse the matrix of exercise 2.2.\n",
    "\n",
    "#### Exercise 2.6: Write three selectors for: 1. the first row, 2. the second column of the matrix and 3. Every odd row"
   ]
  },
  {
   "cell_type": "code",
   "execution_count": 64,
   "metadata": {},
   "outputs": [
    {
     "name": "stdout",
     "output_type": "stream",
     "text": [
      "[[0.04832974 0.79916846]\n",
      " [0.19250015 0.49170778]\n",
      " [0.71966166 0.01273294]]\n",
      "[0.04832974 0.79916846]\n",
      "[0.79916846 0.49170778 0.01273294]\n",
      "[[0.04832974 0.79916846]\n",
      " [0.71966166 0.01273294]]\n"
     ]
    }
   ],
   "source": [
    "matrix = np.random.random((3,2))\n",
    "print(matrix)\n",
    "\n",
    "sel_one = matrix[0]\n",
    "print(sel_one)\n",
    "\n",
    "sel_two = matrix[:,1]\n",
    "print(sel_two)\n",
    "\n",
    "sel_three = matrix[::2]\n",
    "print(sel_three)"
   ]
  },
  {
   "cell_type": "markdown",
   "metadata": {},
   "source": [
    "### Exercise 3: Conversion, stacking and swapping\n",
    "#### Exercise 3.1: What is the difference between shape, size and dtype?"
   ]
  },
  {
   "cell_type": "code",
   "execution_count": 71,
   "metadata": {},
   "outputs": [
    {
     "name": "stdout",
     "output_type": "stream",
     "text": [
      "(4, 4)\n",
      "16\n",
      "float64\n"
     ]
    }
   ],
   "source": [
    "matrix = np.random.random((4,4))\n",
    "\n",
    "# Matrix Shape: prints out the number of rows and columns of the matrix\n",
    "print(matrix.shape)\n",
    "\n",
    "# Matrix size: prints out the total size of the matrix (rows x columns)\n",
    "print(matrix.size)\n",
    "\n",
    "# Dtype prints out the data type of the contents of the matrix\n",
    "print(matrix.dtype)"
   ]
  },
  {
   "cell_type": "markdown",
   "metadata": {},
   "source": [
    "#### Exercise 3.2: Convert an 1D array with 21 elements in: a 2D array with...\n",
    "1. A matrix with 3 rows\n",
    "2. A matrix with 3 columns\n",
    "3. What happens when you change one of the dimensions into -1?"
   ]
  },
  {
   "cell_type": "code",
   "execution_count": 77,
   "metadata": {
    "scrolled": true
   },
   "outputs": [
    {
     "name": "stdout",
     "output_type": "stream",
     "text": [
      "[ 1  2  3  4  5  6  7  8  9 10 11 12 13 14 15 16 17 18 19 20 21]\n",
      "[[ 1  2  3  4  5  6  7]\n",
      " [ 8  9 10 11 12 13 14]\n",
      " [15 16 17 18 19 20 21]]\n",
      "[[ 1  2  3]\n",
      " [ 4  5  6]\n",
      " [ 7  8  9]\n",
      " [10 11 12]\n",
      " [13 14 15]\n",
      " [16 17 18]\n",
      " [19 20 21]]\n",
      "[[ 1  2  3  4  5  6  7]\n",
      " [ 8  9 10 11 12 13 14]\n",
      " [15 16 17 18 19 20 21]]\n"
     ]
    }
   ],
   "source": [
    "a = np.arange(1,22)\n",
    "print(a)\n",
    "\n",
    "b = a.reshape((3,7))\n",
    "print(b)\n",
    "\n",
    "c = a.reshape((7,3))\n",
    "print(c)\n",
    "\n",
    "# Changing a value to -1 automatically determines the needed size\n",
    "d = a.reshape((3, -1))\n",
    "print(d)"
   ]
  },
  {
   "cell_type": "markdown",
   "metadata": {},
   "source": [
    "#### Exercise 3.3: Stack the following arrays:\n",
    "1. Vertically\n",
    "2. Horizontally"
   ]
  },
  {
   "cell_type": "code",
   "execution_count": 85,
   "metadata": {
    "scrolled": true
   },
   "outputs": [
    {
     "name": "stdout",
     "output_type": "stream",
     "text": [
      "[[ 1  2  7  8]\n",
      " [ 3  4  9 10]\n",
      " [ 5  6 11 12]]\n",
      "[[ 1  2]\n",
      " [ 3  4]\n",
      " [ 5  6]\n",
      " [ 7  8]\n",
      " [ 9 10]\n",
      " [11 12]]\n"
     ]
    }
   ],
   "source": [
    "a = np.array([[1,2],[3,4],[5,6]])\n",
    "b = np.array([[7,8],[9,10],[11,12]])\n",
    "\n",
    "horizontally = np.hstack((a, b))\n",
    "print(horizontally)\n",
    "\n",
    "vertically = np.vstack((a, b))\n",
    "print(vertically)"
   ]
  },
  {
   "cell_type": "markdown",
   "metadata": {},
   "source": [
    "### Exercise 4: broadcasting and matrix operations\n",
    "By default NumPy uses broadcasting in stead of the well known linear algebra concepts (such as matrix multiplication). Study the following article to understand broadcasting: https://jakevdp.github.io/PythonDataScienceHandbook/02.05-computation-on-arrays-broadcasting.html\n",
    "\n",
    "Use the following datatypes for the exercises:"
   ]
  },
  {
   "cell_type": "code",
   "execution_count": 87,
   "metadata": {
    "scrolled": true
   },
   "outputs": [],
   "source": [
    "mat = np.arange(1,10, dtype=np.float64).reshape((3,-1))\n",
    "vec = np.arange(1,4)"
   ]
  },
  {
   "cell_type": "markdown",
   "metadata": {},
   "source": [
    "#### Exercise 4.1: Apply the following mathematical operations:\n",
    "1. Add the vector to the matrix\n",
    "2. Multiply the matrix with the scalar value 3\n",
    "3. Multiply the matrix with the vector"
   ]
  },
  {
   "cell_type": "code",
   "execution_count": 90,
   "metadata": {
    "scrolled": true
   },
   "outputs": [
    {
     "name": "stdout",
     "output_type": "stream",
     "text": [
      "[[ 2.  4.  6.]\n",
      " [ 5.  7.  9.]\n",
      " [ 8. 10. 12.]]\n",
      "[[1.13473386 0.69131214 2.59185893 0.03338311]\n",
      " [2.4532649  2.94355624 0.01053005 2.53295409]\n",
      " [0.14791863 2.95724566 1.38287267 0.87340213]\n",
      " [2.84858424 1.80143165 0.38156682 0.89794779]]\n",
      "[[ 1.  4.  9.]\n",
      " [ 4. 10. 18.]\n",
      " [ 7. 16. 27.]]\n"
     ]
    }
   ],
   "source": [
    "mat_vec = mat + vec\n",
    "print(mat_vec)\n",
    "\n",
    "three_matrix = matrix * 3\n",
    "print(three_matrix)\n",
    "\n",
    "mat_vec_2 = mat * vec\n",
    "print(mat_vec_2)"
   ]
  },
  {
   "cell_type": "markdown",
   "metadata": {},
   "source": [
    "#### Exercise 4.2: Matrix operations\n",
    "1. Transpose the matrix\n",
    "2. Apply a matrix multiplication with the original matrix and the transposed matrix"
   ]
  },
  {
   "cell_type": "code",
   "execution_count": 94,
   "metadata": {
    "scrolled": true
   },
   "outputs": [
    {
     "name": "stdout",
     "output_type": "stream",
     "text": [
      "[[1. 2. 3.]\n",
      " [4. 5. 6.]\n",
      " [7. 8. 9.]]\n",
      "[[1. 4. 7.]\n",
      " [2. 5. 8.]\n",
      " [3. 6. 9.]]\n",
      "[[ 1.  8. 21.]\n",
      " [ 8. 25. 48.]\n",
      " [21. 48. 81.]]\n"
     ]
    }
   ],
   "source": [
    "print(mat)\n",
    "\n",
    "transposed = mat.transpose()\n",
    "print(transposed)\n",
    "\n",
    "multiplied = mat * mat.transpose()\n",
    "print(multiplied)"
   ]
  },
  {
   "cell_type": "markdown",
   "metadata": {},
   "source": [
    "#### Exercise 4.3: Aggregation\n",
    "1. Calculate the sum, mean and standard deviation of the whole matrix\n",
    "2. Calculte the sum, mean and standard deviation of each row\n",
    "3. Calculte the sum, mean and standard deviation of each column"
   ]
  },
  {
   "cell_type": "code",
   "execution_count": 129,
   "metadata": {
    "scrolled": true
   },
   "outputs": [
    {
     "name": "stdout",
     "output_type": "stream",
     "text": [
      "45.0\n",
      "5.0\n",
      "2.581988897471611\n",
      "6.0\n",
      "2.0\n",
      "0.816496580927726\n",
      "15.0\n",
      "5.0\n",
      "0.816496580927726\n",
      "24.0\n",
      "8.0\n",
      "0.816496580927726\n",
      "12.0\n",
      "4.0\n",
      "2.449489742783178\n",
      "15.0\n",
      "5.0\n",
      "2.449489742783178\n",
      "18.0\n",
      "6.0\n",
      "2.449489742783178\n"
     ]
    }
   ],
   "source": [
    "sum = mat.sum()\n",
    "print(sum)\n",
    "\n",
    "mean = mat.mean()\n",
    "print(mean)\n",
    "\n",
    "std = mat.std()\n",
    "print(std)\n",
    "\n",
    "# ------------------\n",
    "\n",
    "for row in mat[0:]:\n",
    "    arr = np.array(row)\n",
    "    print (arr.sum())\n",
    "    print (arr.mean())\n",
    "    print (arr.std())\n",
    "\n",
    "for col in mat.transpose()[0:]:\n",
    "    arr = np.array(col)\n",
    "    print (arr.sum())\n",
    "    print (arr.mean())\n",
    "    print (arr.std())"
   ]
  },
  {
   "cell_type": "markdown",
   "metadata": {},
   "source": [
    "#### Exercise 4.4: Simplification of for-loops\n",
    "Last week we have implemented the sum of squared errors function (see below). Please rewrite this whole function into one NumPy statement"
   ]
  },
  {
   "cell_type": "code",
   "execution_count": 132,
   "metadata": {},
   "outputs": [
    {
     "name": "stdout",
     "output_type": "stream",
     "text": [
      "0.5302037950884388\n",
      "0.5302037950884388\n"
     ]
    }
   ],
   "source": [
    "def SSE(real, pred):\n",
    "    result = 0;\n",
    "    for i in range(0, len(real)):\n",
    "        result += (real[i] - pred[i]) ** 2\n",
    "    return result\n",
    "\n",
    "# Simulation of real data and predicted data\n",
    "real = np.arange(1,5, dtype=np.float64)\n",
    "pred = real + np.random.rand(4)\n",
    "\n",
    "# Test the SSE function\n",
    "print(SSE(real, pred))\n",
    "\n",
    "def SSE(real, pred):\n",
    "    return np.array((real - pred) ** 2).sum()\n",
    "\n",
    "print(SSE(real, pred))"
   ]
  },
  {
   "cell_type": "markdown",
   "metadata": {},
   "source": [
    "## Explore Pandas\n",
    "The following cheatsheet could be useful: https://raw.githubusercontent.com/pandas-dev/pandas/master/doc/cheatsheet/Pandas_Cheat_Sheet.pdf\n",
    "\n",
    "Read the following pandas guide: https://pandas.pydata.org/pandas-docs/stable/10min.html and do apply your knowledge in the exercise below.\n",
    "\n",
    "### Exercise 5: reading and plotting data\n",
    "We will use the dataset `weather.csv` from blackboard in this exercise. The file contains the following columns:\n",
    "- dteday: date\n",
    "- season: season (1:springer, 2:summer, 3:fall, 4:winter)\n",
    "- weathersit: \n",
    "    - 1: Clear, Few clouds, Partly cloudy, Partly cloudy\n",
    "    - 2: Mist + Cloudy, Mist + Broken clouds, Mist + Few clouds, Mist\n",
    "    - 3: Light Snow, Light Rain + Thunderstorm + Scattered clouds, Light Rain + Scattered clouds\n",
    "    - 4: Heavy Rain + Ice Pallets + Thunderstorm + Mist, Snow + Fog\n",
    "- temp : Normalized temperature in Celsius. The values are divided to 41 (max)\n",
    "- atemp: Normalized feeling temperature in Celsius. The values are divided to 50 (max)\n",
    "- hum: Normalized humidity. The values are divided to 100 (max)\n",
    "- windspeed: Normalized wind speed. The values are divided to 67 (max)\n",
    "\n",
    "We want to use pandas and matplotlib to analyze this dataset. Please write code for the following questions:\n",
    "- Show the temperature and the feeling temperature in a graph\n",
    "- Group the dataframe by month\n",
    "- Show the mean temperature and mean feeling temperature per month in a bar chart\n",
    "- Remove all the columns except for date, temp and atmp and store in a new CSV file\n",
    "- Show the statistics for each column (mean, sum, stddev)"
   ]
  },
  {
   "cell_type": "code",
   "execution_count": 57,
   "metadata": {
    "scrolled": false
   },
   "outputs": [
    {
     "data": {
      "text/html": [
       "<div>\n",
       "<style scoped>\n",
       "    .dataframe tbody tr th:only-of-type {\n",
       "        vertical-align: middle;\n",
       "    }\n",
       "\n",
       "    .dataframe tbody tr th {\n",
       "        vertical-align: top;\n",
       "    }\n",
       "\n",
       "    .dataframe thead th {\n",
       "        text-align: right;\n",
       "    }\n",
       "</style>\n",
       "<table border=\"1\" class=\"dataframe\">\n",
       "  <thead>\n",
       "    <tr style=\"text-align: right;\">\n",
       "      <th></th>\n",
       "      <th>season</th>\n",
       "      <th>weathersit</th>\n",
       "      <th>temp</th>\n",
       "      <th>atemp</th>\n",
       "      <th>hum</th>\n",
       "      <th>windspeed</th>\n",
       "    </tr>\n",
       "  </thead>\n",
       "  <tbody>\n",
       "    <tr>\n",
       "      <td>count</td>\n",
       "      <td>731.000000</td>\n",
       "      <td>731.000000</td>\n",
       "      <td>731.000000</td>\n",
       "      <td>731.000000</td>\n",
       "      <td>731.000000</td>\n",
       "      <td>731.000000</td>\n",
       "    </tr>\n",
       "    <tr>\n",
       "      <td>mean</td>\n",
       "      <td>2.496580</td>\n",
       "      <td>1.395349</td>\n",
       "      <td>0.495385</td>\n",
       "      <td>0.474354</td>\n",
       "      <td>0.627894</td>\n",
       "      <td>0.190486</td>\n",
       "    </tr>\n",
       "    <tr>\n",
       "      <td>std</td>\n",
       "      <td>1.110807</td>\n",
       "      <td>0.544894</td>\n",
       "      <td>0.183051</td>\n",
       "      <td>0.162961</td>\n",
       "      <td>0.142429</td>\n",
       "      <td>0.077498</td>\n",
       "    </tr>\n",
       "    <tr>\n",
       "      <td>min</td>\n",
       "      <td>1.000000</td>\n",
       "      <td>1.000000</td>\n",
       "      <td>0.059130</td>\n",
       "      <td>0.079070</td>\n",
       "      <td>0.000000</td>\n",
       "      <td>0.022392</td>\n",
       "    </tr>\n",
       "    <tr>\n",
       "      <td>25%</td>\n",
       "      <td>2.000000</td>\n",
       "      <td>1.000000</td>\n",
       "      <td>0.337083</td>\n",
       "      <td>0.337842</td>\n",
       "      <td>0.520000</td>\n",
       "      <td>0.134950</td>\n",
       "    </tr>\n",
       "    <tr>\n",
       "      <td>50%</td>\n",
       "      <td>3.000000</td>\n",
       "      <td>1.000000</td>\n",
       "      <td>0.498333</td>\n",
       "      <td>0.486733</td>\n",
       "      <td>0.626667</td>\n",
       "      <td>0.180975</td>\n",
       "    </tr>\n",
       "    <tr>\n",
       "      <td>75%</td>\n",
       "      <td>3.000000</td>\n",
       "      <td>2.000000</td>\n",
       "      <td>0.655417</td>\n",
       "      <td>0.608602</td>\n",
       "      <td>0.730209</td>\n",
       "      <td>0.233214</td>\n",
       "    </tr>\n",
       "    <tr>\n",
       "      <td>max</td>\n",
       "      <td>4.000000</td>\n",
       "      <td>3.000000</td>\n",
       "      <td>0.861667</td>\n",
       "      <td>0.840896</td>\n",
       "      <td>0.972500</td>\n",
       "      <td>0.507463</td>\n",
       "    </tr>\n",
       "  </tbody>\n",
       "</table>\n",
       "</div>"
      ],
      "text/plain": [
       "           season  weathersit        temp       atemp         hum   windspeed\n",
       "count  731.000000  731.000000  731.000000  731.000000  731.000000  731.000000\n",
       "mean     2.496580    1.395349    0.495385    0.474354    0.627894    0.190486\n",
       "std      1.110807    0.544894    0.183051    0.162961    0.142429    0.077498\n",
       "min      1.000000    1.000000    0.059130    0.079070    0.000000    0.022392\n",
       "25%      2.000000    1.000000    0.337083    0.337842    0.520000    0.134950\n",
       "50%      3.000000    1.000000    0.498333    0.486733    0.626667    0.180975\n",
       "75%      3.000000    2.000000    0.655417    0.608602    0.730209    0.233214\n",
       "max      4.000000    3.000000    0.861667    0.840896    0.972500    0.507463"
      ]
     },
     "execution_count": 57,
     "metadata": {},
     "output_type": "execute_result"
    },
    {
     "data": {
      "image/png": "[encoded data removed]",
      "text/plain": [
       "<Figure size 432x288 with 1 Axes>"
      ]
     },
     "metadata": {
      "needs_background": "light"
     },
     "output_type": "display_data"
    },
    {
     "data": {
      "image/png": "[encoded data removed]",
      "text/plain": [
       "<Figure size 432x288 with 1 Axes>"
      ]
     },
     "metadata": {
      "needs_background": "light"
     },
     "output_type": "display_data"
    }
   ],
   "source": [
    "# Import the data into a DataFrame\n",
    "weather = pd.read_csv(\"weather.csv\", sep=\";\", index_col=0)\n",
    "\n",
    "# Plot a graph of the temperature and feeling temperature\n",
    "weather[[\"temp\", \"atemp\"]].plot.line()\n",
    "\n",
    "# Convert the dteday column into DateTime objects following the format D/M/Y\n",
    "weather['dteday'] = pd.to_datetime(weather['dteday'], format = '%d/%m/%y')\n",
    "\n",
    "# Set the DataFrame index to the dteday column\n",
    "weather.index = weather['dteday']\n",
    "\n",
    "# Group the DataFrame by month using the previously set index\n",
    "grouped = weather.groupby(pd.Grouper(freq='M'))\n",
    "\n",
    "# Print the groups\n",
    "grouped.groups\n",
    "\n",
    "# Plot a barchart of the maen temperature and feeling temperature per month\n",
    "grouped[[\"temp\", \"atemp\"]].mean().plot(kind=\"bar\")\n",
    "\n",
    "# Take the temp and feeling temp and write them to a CSV file\n",
    "# Note that the dteday column is the index, and will be written to the file\n",
    "# without the need to specify the column\n",
    "weather[[\"temp\", \"atemp\"]].to_csv(\"dteday_temp_atemp.csv\")\n",
    "\n",
    "# Show statistics for all columns\n",
    "weather.describe()"
   ]
  },
  {
   "cell_type": "code",
   "execution_count": null,
   "metadata": {},
   "outputs": [],
   "source": []
  }
 ],
 "metadata": {
  "kernelspec": {
   "display_name": "Python 3",
   "language": "python",
   "name": "python3"
  },
  "language_info": {
   "codemirror_mode": {
    "name": "ipython",
    "version": 3
   },
   "file_extension": ".py",
   "mimetype": "text/x-python",
   "name": "python",
   "nbconvert_exporter": "python",
   "pygments_lexer": "ipython3",
   "version": "3.7.4"
  },
  "varInspector": {
   "cols": {
    "lenName": 16,
    "lenType": 16,
    "lenVar": 40
   },
   "kernels_config": {
    "python": {
     "delete_cmd_postfix": "",
     "delete_cmd_prefix": "del ",
     "library": "var_list.py",
     "varRefreshCmd": "print(var_dic_list())"
    },
    "r": {
     "delete_cmd_postfix": ") ",
     "delete_cmd_prefix": "rm(",
     "library": "var_list.r",
     "varRefreshCmd": "cat(var_dic_list()) "
    }
   },
   "types_to_exclude": [
    "module",
    "function",
    "builtin_function_or_method",
    "instance",
    "_Feature"
   ],
   "window_display": false
  }
 },
 "nbformat": 4,
 "nbformat_minor": 2
}
