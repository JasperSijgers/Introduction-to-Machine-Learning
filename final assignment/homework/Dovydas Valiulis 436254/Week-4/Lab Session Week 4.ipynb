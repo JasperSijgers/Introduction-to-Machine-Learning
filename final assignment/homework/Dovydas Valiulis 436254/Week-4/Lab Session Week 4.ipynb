{
 "cells": [
  {
   "cell_type": "markdown",
   "metadata": {},
   "source": [
    "Author: Dovydas Valiulis 436254"
   ]
  },
  {
   "cell_type": "markdown",
   "metadata": {},
   "source": [
    "# Lab session week 4: Analysis and cleaning\n",
    "\n",
    "In this lab session you will learn how to work with analysing, cleaning and preprocessing data. You will use the kNN classifier in the end.\n",
    "\n",
    "This weeks lab session consists of 5 small exercises:\n",
    "1. Analysing your data\n",
    "2. Imputation of missing values\n",
    "3. Dealing with outliers\n",
    "3. Preprocessing\n",
    "4. Classification with kNN"
   ]
  },
  {
   "cell_type": "code",
   "execution_count": 182,
   "metadata": {},
   "outputs": [],
   "source": [
    "from IPython.display import HTML\n",
    "import matplotlib\n",
    "import pandas as pd\n",
    "import numpy as np\n",
    "pd.set_option('display.max_columns', 500)"
   ]
  },
  {
   "cell_type": "markdown",
   "metadata": {},
   "source": [
    "## Exercise 1: analysing data with Pandas\n",
    "During this exercise we will use the dataset `housedata.csv`. Please watch the following video to understand the describe function of Pandas:"
   ]
  },
  {
   "cell_type": "code",
   "execution_count": 183,
   "metadata": {},
   "outputs": [
    {
     "name": "stderr",
     "output_type": "stream",
     "text": [
      "C:\\Users\\Dovydas\\Anaconda3\\lib\\site-packages\\IPython\\core\\display.py:694: UserWarning: Consider using IPython.display.IFrame instead\n",
      "  warnings.warn(\"Consider using IPython.display.IFrame instead\")\n"
     ]
    },
    {
     "data": {
      "text/html": [
       "<iframe width=\"560\" height=\"315\" src=\"https://www.youtube.com/embed/MaTAhxRsshE\" frameborder=\"0\" allow=\"autoplay; encrypted-media\" allowfullscreen></iframe>"
      ],
      "text/plain": [
       "<IPython.core.display.HTML object>"
      ]
     },
     "execution_count": 183,
     "metadata": {},
     "output_type": "execute_result"
    }
   ],
   "source": [
    "HTML('<iframe width=\"560\" height=\"315\" src=\"https://www.youtube.com/embed/MaTAhxRsshE\" frameborder=\"0\" allow=\"autoplay; encrypted-media\" allowfullscreen></iframe>')"
   ]
  },
  {
   "cell_type": "markdown",
   "metadata": {},
   "source": [
    "This exercise will use a dataset that has been created using this dataset from Kaggle (https://www.kaggle.com/c/house-prices-advanced-regression-techniques/data). It might be useful to look up the column information for each of the columns in your own dataset before you proceed.\n",
    "\n",
    "Now it is time to analyse our own dataset `housedata.csv`. Please do the following exercises:\n",
    "1. Load your data into a dataframe\n",
    "2. Have a look at the statistics using the describe function (hint: use include = 'all') and answer the following questions\n",
    "    - Does your dataset have missing values?\n",
    "    - Are their outliers?\n",
    "    - How is the distribution of your data (hint: use plots)?"
   ]
  },
  {
   "cell_type": "code",
   "execution_count": 184,
   "metadata": {
    "scrolled": false
   },
   "outputs": [
    {
     "data": {
      "text/html": [
       "<div>\n",
       "<style scoped>\n",
       "    .dataframe tbody tr th:only-of-type {\n",
       "        vertical-align: middle;\n",
       "    }\n",
       "\n",
       "    .dataframe tbody tr th {\n",
       "        vertical-align: top;\n",
       "    }\n",
       "\n",
       "    .dataframe thead th {\n",
       "        text-align: right;\n",
       "    }\n",
       "</style>\n",
       "<table border=\"1\" class=\"dataframe\">\n",
       "  <thead>\n",
       "    <tr style=\"text-align: right;\">\n",
       "      <th></th>\n",
       "      <th>LotArea</th>\n",
       "      <th>LotFrontage</th>\n",
       "      <th>BldgType</th>\n",
       "      <th>OverallQual</th>\n",
       "      <th>OverallCond</th>\n",
       "      <th>YearBuilt</th>\n",
       "      <th>HeatingQC</th>\n",
       "      <th>Label</th>\n",
       "    </tr>\n",
       "  </thead>\n",
       "  <tbody>\n",
       "    <tr>\n",
       "      <td>0</td>\n",
       "      <td>8450</td>\n",
       "      <td>65.0</td>\n",
       "      <td>1Fam</td>\n",
       "      <td>7.0</td>\n",
       "      <td>5</td>\n",
       "      <td>2003</td>\n",
       "      <td>Ex</td>\n",
       "      <td>normal</td>\n",
       "    </tr>\n",
       "    <tr>\n",
       "      <td>1</td>\n",
       "      <td>9600</td>\n",
       "      <td>80.0</td>\n",
       "      <td>1Fam</td>\n",
       "      <td>6.0</td>\n",
       "      <td>8</td>\n",
       "      <td>1976</td>\n",
       "      <td>Ex</td>\n",
       "      <td>normal</td>\n",
       "    </tr>\n",
       "    <tr>\n",
       "      <td>2</td>\n",
       "      <td>11250</td>\n",
       "      <td>68.0</td>\n",
       "      <td>1Fam</td>\n",
       "      <td>7.0</td>\n",
       "      <td>5</td>\n",
       "      <td>2001</td>\n",
       "      <td>Ex</td>\n",
       "      <td>expensive</td>\n",
       "    </tr>\n",
       "    <tr>\n",
       "      <td>3</td>\n",
       "      <td>9550</td>\n",
       "      <td>60.0</td>\n",
       "      <td>1Fam</td>\n",
       "      <td>7.0</td>\n",
       "      <td>5</td>\n",
       "      <td>1915</td>\n",
       "      <td>Gd</td>\n",
       "      <td>normal</td>\n",
       "    </tr>\n",
       "    <tr>\n",
       "      <td>4</td>\n",
       "      <td>14260</td>\n",
       "      <td>84.0</td>\n",
       "      <td>1Fam</td>\n",
       "      <td>8.0</td>\n",
       "      <td>5</td>\n",
       "      <td>2000</td>\n",
       "      <td>Ex</td>\n",
       "      <td>expensive</td>\n",
       "    </tr>\n",
       "    <tr>\n",
       "      <td>...</td>\n",
       "      <td>...</td>\n",
       "      <td>...</td>\n",
       "      <td>...</td>\n",
       "      <td>...</td>\n",
       "      <td>...</td>\n",
       "      <td>...</td>\n",
       "      <td>...</td>\n",
       "      <td>...</td>\n",
       "    </tr>\n",
       "    <tr>\n",
       "      <td>1455</td>\n",
       "      <td>7917</td>\n",
       "      <td>62.0</td>\n",
       "      <td>1Fam</td>\n",
       "      <td>6.0</td>\n",
       "      <td>5</td>\n",
       "      <td>1999</td>\n",
       "      <td>Ex</td>\n",
       "      <td>normal</td>\n",
       "    </tr>\n",
       "    <tr>\n",
       "      <td>1456</td>\n",
       "      <td>13175</td>\n",
       "      <td>85.0</td>\n",
       "      <td>1Fam</td>\n",
       "      <td>6.0</td>\n",
       "      <td>6</td>\n",
       "      <td>1978</td>\n",
       "      <td>TA</td>\n",
       "      <td>normal</td>\n",
       "    </tr>\n",
       "    <tr>\n",
       "      <td>1457</td>\n",
       "      <td>9042</td>\n",
       "      <td>66.0</td>\n",
       "      <td>NaN</td>\n",
       "      <td>7.0</td>\n",
       "      <td>9</td>\n",
       "      <td>1941</td>\n",
       "      <td>Ex</td>\n",
       "      <td>expensive</td>\n",
       "    </tr>\n",
       "    <tr>\n",
       "      <td>1458</td>\n",
       "      <td>9717</td>\n",
       "      <td>68.0</td>\n",
       "      <td>1Fam</td>\n",
       "      <td>5.0</td>\n",
       "      <td>6</td>\n",
       "      <td>1950</td>\n",
       "      <td>Gd</td>\n",
       "      <td>normal</td>\n",
       "    </tr>\n",
       "    <tr>\n",
       "      <td>1459</td>\n",
       "      <td>9937</td>\n",
       "      <td>75.0</td>\n",
       "      <td>1Fam</td>\n",
       "      <td>5.0</td>\n",
       "      <td>6</td>\n",
       "      <td>1965</td>\n",
       "      <td>Gd</td>\n",
       "      <td>normal</td>\n",
       "    </tr>\n",
       "  </tbody>\n",
       "</table>\n",
       "<p>1460 rows × 8 columns</p>\n",
       "</div>"
      ],
      "text/plain": [
       "      LotArea  LotFrontage BldgType  OverallQual  OverallCond  YearBuilt  \\\n",
       "0        8450         65.0     1Fam          7.0            5       2003   \n",
       "1        9600         80.0     1Fam          6.0            8       1976   \n",
       "2       11250         68.0     1Fam          7.0            5       2001   \n",
       "3        9550         60.0     1Fam          7.0            5       1915   \n",
       "4       14260         84.0     1Fam          8.0            5       2000   \n",
       "...       ...          ...      ...          ...          ...        ...   \n",
       "1455     7917         62.0     1Fam          6.0            5       1999   \n",
       "1456    13175         85.0     1Fam          6.0            6       1978   \n",
       "1457     9042         66.0      NaN          7.0            9       1941   \n",
       "1458     9717         68.0     1Fam          5.0            6       1950   \n",
       "1459     9937         75.0     1Fam          5.0            6       1965   \n",
       "\n",
       "     HeatingQC      Label  \n",
       "0           Ex     normal  \n",
       "1           Ex     normal  \n",
       "2           Ex  expensive  \n",
       "3           Gd     normal  \n",
       "4           Ex  expensive  \n",
       "...        ...        ...  \n",
       "1455        Ex     normal  \n",
       "1456        TA     normal  \n",
       "1457        Ex  expensive  \n",
       "1458        Gd     normal  \n",
       "1459        Gd     normal  \n",
       "\n",
       "[1460 rows x 8 columns]"
      ]
     },
     "execution_count": 184,
     "metadata": {},
     "output_type": "execute_result"
    }
   ],
   "source": [
    "# Your code here\n",
    "data = pd.read_csv('housedata.csv', sep=',')\n",
    "df = pd.DataFrame(data)\n",
    "df"
   ]
  },
  {
   "cell_type": "code",
   "execution_count": 185,
   "metadata": {},
   "outputs": [
    {
     "data": {
      "text/html": [
       "<div>\n",
       "<style scoped>\n",
       "    .dataframe tbody tr th:only-of-type {\n",
       "        vertical-align: middle;\n",
       "    }\n",
       "\n",
       "    .dataframe tbody tr th {\n",
       "        vertical-align: top;\n",
       "    }\n",
       "\n",
       "    .dataframe thead th {\n",
       "        text-align: right;\n",
       "    }\n",
       "</style>\n",
       "<table border=\"1\" class=\"dataframe\">\n",
       "  <thead>\n",
       "    <tr style=\"text-align: right;\">\n",
       "      <th></th>\n",
       "      <th>LotArea</th>\n",
       "      <th>LotFrontage</th>\n",
       "      <th>OverallQual</th>\n",
       "      <th>OverallCond</th>\n",
       "      <th>YearBuilt</th>\n",
       "    </tr>\n",
       "  </thead>\n",
       "  <tbody>\n",
       "    <tr>\n",
       "      <td>count</td>\n",
       "      <td>1460.000000</td>\n",
       "      <td>1201.000000</td>\n",
       "      <td>1362.000000</td>\n",
       "      <td>1460.000000</td>\n",
       "      <td>1460.000000</td>\n",
       "    </tr>\n",
       "    <tr>\n",
       "      <td>mean</td>\n",
       "      <td>10516.828082</td>\n",
       "      <td>70.049958</td>\n",
       "      <td>6.095448</td>\n",
       "      <td>5.575342</td>\n",
       "      <td>1934.567808</td>\n",
       "    </tr>\n",
       "    <tr>\n",
       "      <td>std</td>\n",
       "      <td>9981.264932</td>\n",
       "      <td>24.284752</td>\n",
       "      <td>1.386296</td>\n",
       "      <td>1.112799</td>\n",
       "      <td>300.142482</td>\n",
       "    </tr>\n",
       "    <tr>\n",
       "      <td>min</td>\n",
       "      <td>1300.000000</td>\n",
       "      <td>21.000000</td>\n",
       "      <td>1.000000</td>\n",
       "      <td>1.000000</td>\n",
       "      <td>-491.000000</td>\n",
       "    </tr>\n",
       "    <tr>\n",
       "      <td>25%</td>\n",
       "      <td>7553.500000</td>\n",
       "      <td>59.000000</td>\n",
       "      <td>5.000000</td>\n",
       "      <td>5.000000</td>\n",
       "      <td>1952.000000</td>\n",
       "    </tr>\n",
       "    <tr>\n",
       "      <td>50%</td>\n",
       "      <td>9478.500000</td>\n",
       "      <td>69.000000</td>\n",
       "      <td>6.000000</td>\n",
       "      <td>5.000000</td>\n",
       "      <td>1972.000000</td>\n",
       "    </tr>\n",
       "    <tr>\n",
       "      <td>75%</td>\n",
       "      <td>11601.500000</td>\n",
       "      <td>80.000000</td>\n",
       "      <td>7.000000</td>\n",
       "      <td>6.000000</td>\n",
       "      <td>2000.000000</td>\n",
       "    </tr>\n",
       "    <tr>\n",
       "      <td>max</td>\n",
       "      <td>215245.000000</td>\n",
       "      <td>313.000000</td>\n",
       "      <td>10.000000</td>\n",
       "      <td>9.000000</td>\n",
       "      <td>2457.000000</td>\n",
       "    </tr>\n",
       "  </tbody>\n",
       "</table>\n",
       "</div>"
      ],
      "text/plain": [
       "             LotArea  LotFrontage  OverallQual  OverallCond    YearBuilt\n",
       "count    1460.000000  1201.000000  1362.000000  1460.000000  1460.000000\n",
       "mean    10516.828082    70.049958     6.095448     5.575342  1934.567808\n",
       "std      9981.264932    24.284752     1.386296     1.112799   300.142482\n",
       "min      1300.000000    21.000000     1.000000     1.000000  -491.000000\n",
       "25%      7553.500000    59.000000     5.000000     5.000000  1952.000000\n",
       "50%      9478.500000    69.000000     6.000000     5.000000  1972.000000\n",
       "75%     11601.500000    80.000000     7.000000     6.000000  2000.000000\n",
       "max    215245.000000   313.000000    10.000000     9.000000  2457.000000"
      ]
     },
     "execution_count": 185,
     "metadata": {},
     "output_type": "execute_result"
    }
   ],
   "source": [
    "df.describe()"
   ]
  },
  {
   "cell_type": "code",
   "execution_count": 186,
   "metadata": {},
   "outputs": [
    {
     "data": {
      "text/plain": [
       "<matplotlib.axes._subplots.AxesSubplot at 0x2058851cf08>"
      ]
     },
     "execution_count": 186,
     "metadata": {},
     "output_type": "execute_result"
    },
    {
     "data": {
      "image/png": "[encoded data removed]",
      "text/plain": [
       "<Figure size 432x288 with 1 Axes>"
      ]
     },
     "metadata": {
      "needs_background": "light"
     },
     "output_type": "display_data"
    }
   ],
   "source": [
    "df.boxplot(column=\"LotArea\")"
   ]
  },
  {
   "cell_type": "code",
   "execution_count": 187,
   "metadata": {},
   "outputs": [
    {
     "data": {
      "text/plain": [
       "<matplotlib.axes._subplots.AxesSubplot at 0x20589545348>"
      ]
     },
     "execution_count": 187,
     "metadata": {},
     "output_type": "execute_result"
    },
    {
     "data": {
      "image/png": "[encoded data removed]",
      "text/plain": [
       "<Figure size 432x288 with 1 Axes>"
      ]
     },
     "metadata": {
      "needs_background": "light"
     },
     "output_type": "display_data"
    }
   ],
   "source": [
    "df.boxplot(column=\"LotFrontage\")"
   ]
  },
  {
   "cell_type": "code",
   "execution_count": 188,
   "metadata": {},
   "outputs": [
    {
     "data": {
      "text/plain": [
       "<matplotlib.axes._subplots.AxesSubplot at 0x205895aa388>"
      ]
     },
     "execution_count": 188,
     "metadata": {},
     "output_type": "execute_result"
    },
    {
     "data": {
      "image/png": "[encoded data removed]",
      "text/plain": [
       "<Figure size 432x288 with 1 Axes>"
      ]
     },
     "metadata": {
      "needs_background": "light"
     },
     "output_type": "display_data"
    }
   ],
   "source": [
    "df.boxplot(column=\"OverallQual\")"
   ]
  },
  {
   "cell_type": "code",
   "execution_count": 189,
   "metadata": {},
   "outputs": [
    {
     "data": {
      "text/plain": [
       "<matplotlib.axes._subplots.AxesSubplot at 0x205895fd8c8>"
      ]
     },
     "execution_count": 189,
     "metadata": {},
     "output_type": "execute_result"
    },
    {
     "data": {
      "image/png": "[encoded data removed]",
      "text/plain": [
       "<Figure size 432x288 with 1 Axes>"
      ]
     },
     "metadata": {
      "needs_background": "light"
     },
     "output_type": "display_data"
    }
   ],
   "source": [
    "df.boxplot(column=\"OverallCond\")"
   ]
  },
  {
   "cell_type": "code",
   "execution_count": 190,
   "metadata": {},
   "outputs": [
    {
     "data": {
      "text/plain": [
       "<matplotlib.axes._subplots.AxesSubplot at 0x205896848c8>"
      ]
     },
     "execution_count": 190,
     "metadata": {},
     "output_type": "execute_result"
    },
    {
     "data": {
      "image/png": "[encoded data removed]",
      "text/plain": [
       "<Figure size 432x288 with 1 Axes>"
      ]
     },
     "metadata": {
      "needs_background": "light"
     },
     "output_type": "display_data"
    }
   ],
   "source": [
    "df.boxplot(column=\"YearBuilt\")"
   ]
  },
  {
   "cell_type": "code",
   "execution_count": 191,
   "metadata": {},
   "outputs": [
    {
     "data": {
      "text/plain": [
       "LotArea          0\n",
       "LotFrontage    259\n",
       "BldgType        82\n",
       "OverallQual     98\n",
       "OverallCond      0\n",
       "YearBuilt        0\n",
       "HeatingQC        0\n",
       "Label            0\n",
       "dtype: int64"
      ]
     },
     "execution_count": 191,
     "metadata": {},
     "output_type": "execute_result"
    }
   ],
   "source": [
    "df.isna().sum()"
   ]
  },
  {
   "cell_type": "code",
   "execution_count": 192,
   "metadata": {},
   "outputs": [
    {
     "data": {
      "text/plain": [
       "LotArea        0.000000\n",
       "LotFrontage    0.177397\n",
       "BldgType       0.056164\n",
       "OverallQual    0.067123\n",
       "OverallCond    0.000000\n",
       "YearBuilt      0.000000\n",
       "HeatingQC      0.000000\n",
       "Label          0.000000\n",
       "dtype: float64"
      ]
     },
     "execution_count": 192,
     "metadata": {},
     "output_type": "execute_result"
    }
   ],
   "source": [
    "df.isna().sum()/len(df)"
   ]
  },
  {
   "cell_type": "code",
   "execution_count": 193,
   "metadata": {},
   "outputs": [
    {
     "data": {
      "text/plain": [
       "array([[<matplotlib.axes._subplots.AxesSubplot object at 0x00000205896DBB88>,\n",
       "        <matplotlib.axes._subplots.AxesSubplot object at 0x00000205896D5F88>],\n",
       "       [<matplotlib.axes._subplots.AxesSubplot object at 0x00000205897174C8>,\n",
       "        <matplotlib.axes._subplots.AxesSubplot object at 0x000002058974A808>],\n",
       "       [<matplotlib.axes._subplots.AxesSubplot object at 0x0000020589783BC8>,\n",
       "        <matplotlib.axes._subplots.AxesSubplot object at 0x00000205897BCCC8>]],\n",
       "      dtype=object)"
      ]
     },
     "execution_count": 193,
     "metadata": {},
     "output_type": "execute_result"
    },
    {
     "data": {
      "image/png": "[encoded data removed]",
      "text/plain": [
       "<Figure size 1080x1440 with 6 Axes>"
      ]
     },
     "metadata": {
      "needs_background": "light"
     },
     "output_type": "display_data"
    }
   ],
   "source": [
    "df.hist(figsize=(15,20))"
   ]
  },
  {
   "cell_type": "markdown",
   "metadata": {},
   "source": [
    "**Your answers:**\n",
    "- Does the data set have missing values? Which columns?\n",
    "    - yes, LotFrontage, BldgType, OverallQual\n",
    "- Does the data set have outliers? Which columns?\n",
    "    - yes, YearBuilt, LotArea, LotFrontage\n",
    "- How is the distribution of your data?\n",
    "    - ..."
   ]
  },
  {
   "cell_type": "markdown",
   "metadata": {},
   "source": [
    "## Exercise 2: Imputation\n",
    "We will now fix the problem of missing values by using imputation. Please watch the following video to understand how imputation works:"
   ]
  },
  {
   "cell_type": "code",
   "execution_count": 194,
   "metadata": {},
   "outputs": [
    {
     "name": "stderr",
     "output_type": "stream",
     "text": [
      "C:\\Users\\Dovydas\\Anaconda3\\lib\\site-packages\\IPython\\core\\display.py:694: UserWarning: Consider using IPython.display.IFrame instead\n",
      "  warnings.warn(\"Consider using IPython.display.IFrame instead\")\n"
     ]
    },
    {
     "data": {
      "text/html": [
       "<iframe width=\"560\" height=\"315\" src=\"https://www.youtube.com/embed/D6saJ9R65L4\" frameborder=\"0\" allow=\"autoplay; encrypted-media\" allowfullscreen></iframe>"
      ],
      "text/plain": [
       "<IPython.core.display.HTML object>"
      ]
     },
     "execution_count": 194,
     "metadata": {},
     "output_type": "execute_result"
    }
   ],
   "source": [
    "HTML('<iframe width=\"560\" height=\"315\" src=\"https://www.youtube.com/embed/D6saJ9R65L4\" frameborder=\"0\" allow=\"autoplay; encrypted-media\" allowfullscreen></iframe>')"
   ]
  },
  {
   "cell_type": "markdown",
   "metadata": {},
   "source": [
    "Lets try to do imputation on our own dataset.\n",
    "\n",
    "1. Impute missing values (mean, median or mode) depending on the earlier found statistics\n",
    "2. Use the Scikit-learn framework for imputation (http://scikit-learn.org/stable/modules/impute.html)"
   ]
  },
  {
   "cell_type": "code",
   "execution_count": 195,
   "metadata": {},
   "outputs": [
    {
     "data": {
      "text/plain": [
       "LotArea         0\n",
       "LotFrontage     0\n",
       "BldgType       82\n",
       "OverallQual    98\n",
       "OverallCond     0\n",
       "YearBuilt       0\n",
       "HeatingQC       0\n",
       "Label           0\n",
       "dtype: int64"
      ]
     },
     "execution_count": 195,
     "metadata": {},
     "output_type": "execute_result"
    }
   ],
   "source": [
    "# Impute missing values for numerical data using the imputer\n",
    "from sklearn.impute import SimpleImputer\n",
    "\n",
    "# Your code here\n",
    "\n",
    "imp = SimpleImputer(missing_values=np.nan, strategy='mean')\n",
    "df['LotFrontage'] = imp.fit_transform(df[['LotFrontage']])\n",
    "df.isna().sum()"
   ]
  },
  {
   "cell_type": "code",
   "execution_count": 196,
   "metadata": {},
   "outputs": [
    {
     "data": {
      "text/plain": [
       "LotArea         0\n",
       "LotFrontage     0\n",
       "BldgType       82\n",
       "OverallQual     0\n",
       "OverallCond     0\n",
       "YearBuilt       0\n",
       "HeatingQC       0\n",
       "Label           0\n",
       "dtype: int64"
      ]
     },
     "execution_count": 196,
     "metadata": {},
     "output_type": "execute_result"
    }
   ],
   "source": [
    "imp = SimpleImputer(missing_values=np.nan, strategy='median')\n",
    "df['OverallQual'] = imp.fit_transform(df[['OverallQual']])\n",
    "df.isna().sum()"
   ]
  },
  {
   "cell_type": "code",
   "execution_count": 197,
   "metadata": {},
   "outputs": [
    {
     "data": {
      "text/html": [
       "<div>\n",
       "<style scoped>\n",
       "    .dataframe tbody tr th:only-of-type {\n",
       "        vertical-align: middle;\n",
       "    }\n",
       "\n",
       "    .dataframe tbody tr th {\n",
       "        vertical-align: top;\n",
       "    }\n",
       "\n",
       "    .dataframe thead th {\n",
       "        text-align: right;\n",
       "    }\n",
       "</style>\n",
       "<table border=\"1\" class=\"dataframe\">\n",
       "  <thead>\n",
       "    <tr style=\"text-align: right;\">\n",
       "      <th></th>\n",
       "      <th>LotArea</th>\n",
       "      <th>LotFrontage</th>\n",
       "      <th>OverallQual</th>\n",
       "      <th>OverallCond</th>\n",
       "      <th>YearBuilt</th>\n",
       "    </tr>\n",
       "  </thead>\n",
       "  <tbody>\n",
       "    <tr>\n",
       "      <td>count</td>\n",
       "      <td>1460.000000</td>\n",
       "      <td>1460.000000</td>\n",
       "      <td>1460.000000</td>\n",
       "      <td>1460.000000</td>\n",
       "      <td>1460.000000</td>\n",
       "    </tr>\n",
       "    <tr>\n",
       "      <td>mean</td>\n",
       "      <td>10516.828082</td>\n",
       "      <td>70.049958</td>\n",
       "      <td>6.089041</td>\n",
       "      <td>5.575342</td>\n",
       "      <td>1934.567808</td>\n",
       "    </tr>\n",
       "    <tr>\n",
       "      <td>std</td>\n",
       "      <td>9981.264932</td>\n",
       "      <td>22.024023</td>\n",
       "      <td>1.339142</td>\n",
       "      <td>1.112799</td>\n",
       "      <td>300.142482</td>\n",
       "    </tr>\n",
       "    <tr>\n",
       "      <td>min</td>\n",
       "      <td>1300.000000</td>\n",
       "      <td>21.000000</td>\n",
       "      <td>1.000000</td>\n",
       "      <td>1.000000</td>\n",
       "      <td>-491.000000</td>\n",
       "    </tr>\n",
       "    <tr>\n",
       "      <td>25%</td>\n",
       "      <td>7553.500000</td>\n",
       "      <td>60.000000</td>\n",
       "      <td>5.000000</td>\n",
       "      <td>5.000000</td>\n",
       "      <td>1952.000000</td>\n",
       "    </tr>\n",
       "    <tr>\n",
       "      <td>50%</td>\n",
       "      <td>9478.500000</td>\n",
       "      <td>70.049958</td>\n",
       "      <td>6.000000</td>\n",
       "      <td>5.000000</td>\n",
       "      <td>1972.000000</td>\n",
       "    </tr>\n",
       "    <tr>\n",
       "      <td>75%</td>\n",
       "      <td>11601.500000</td>\n",
       "      <td>79.000000</td>\n",
       "      <td>7.000000</td>\n",
       "      <td>6.000000</td>\n",
       "      <td>2000.000000</td>\n",
       "    </tr>\n",
       "    <tr>\n",
       "      <td>max</td>\n",
       "      <td>215245.000000</td>\n",
       "      <td>313.000000</td>\n",
       "      <td>10.000000</td>\n",
       "      <td>9.000000</td>\n",
       "      <td>2457.000000</td>\n",
       "    </tr>\n",
       "  </tbody>\n",
       "</table>\n",
       "</div>"
      ],
      "text/plain": [
       "             LotArea  LotFrontage  OverallQual  OverallCond    YearBuilt\n",
       "count    1460.000000  1460.000000  1460.000000  1460.000000  1460.000000\n",
       "mean    10516.828082    70.049958     6.089041     5.575342  1934.567808\n",
       "std      9981.264932    22.024023     1.339142     1.112799   300.142482\n",
       "min      1300.000000    21.000000     1.000000     1.000000  -491.000000\n",
       "25%      7553.500000    60.000000     5.000000     5.000000  1952.000000\n",
       "50%      9478.500000    70.049958     6.000000     5.000000  1972.000000\n",
       "75%     11601.500000    79.000000     7.000000     6.000000  2000.000000\n",
       "max    215245.000000   313.000000    10.000000     9.000000  2457.000000"
      ]
     },
     "execution_count": 197,
     "metadata": {},
     "output_type": "execute_result"
    }
   ],
   "source": [
    "# Impute missing values for categorical values using pandas operations\n",
    "\n",
    "# Your code here\n",
    "imp = SimpleImputer(missing_values=np.nan, strategy='most_frequent')\n",
    "df['BldgType'] = imp.fit_transform(df[['BldgType']])\n",
    "df.describe()"
   ]
  },
  {
   "cell_type": "markdown",
   "metadata": {},
   "source": [
    "## Exercise 3: Dealing with outliers\n",
    "Since your dataset contains some outliers, we should fix this problem before proceeding to the next step. Read the following two (short) articles:\n",
    "1. https://www.theanalysisfactor.com/outliers-to-drop-or-not-to-drop/\n",
    "2. https://www.rapidinsightinc.com/handle-outliers/\n",
    "\n",
    "Use the described techniques, find the outliers in your dataset and deal with them!"
   ]
  },
  {
   "cell_type": "code",
   "execution_count": 198,
   "metadata": {},
   "outputs": [
    {
     "data": {
      "text/plain": [
       "array([[<matplotlib.axes._subplots.AxesSubplot object at 0x00000205898EB388>,\n",
       "        <matplotlib.axes._subplots.AxesSubplot object at 0x0000020589FF5688>],\n",
       "       [<matplotlib.axes._subplots.AxesSubplot object at 0x0000020589906708>,\n",
       "        <matplotlib.axes._subplots.AxesSubplot object at 0x0000020589939C48>],\n",
       "       [<matplotlib.axes._subplots.AxesSubplot object at 0x00000205899745C8>,\n",
       "        <matplotlib.axes._subplots.AxesSubplot object at 0x00000205899A8F88>]],\n",
       "      dtype=object)"
      ]
     },
     "execution_count": 198,
     "metadata": {},
     "output_type": "execute_result"
    },
    {
     "data": {
      "image/png": "[encoded data removed]",
      "text/plain": [
       "<Figure size 1080x1440 with 6 Axes>"
      ]
     },
     "metadata": {
      "needs_background": "light"
     },
     "output_type": "display_data"
    }
   ],
   "source": [
    "# Your code here\n",
    "\n",
    "df = df.query('0<YearBuilt<=2020')\n",
    "df = df.query('LotArea<=20000')\n",
    "df = df.query('LotFrontage<=100')\n",
    "df.hist(figsize=(15,20))"
   ]
  },
  {
   "cell_type": "markdown",
   "metadata": {},
   "source": [
    "## Exercise 4: Preprocessing\n",
    "In order to use the data we have to preprocess the data. We have to perform several steps to make the data ready for classification.\n",
    "\n",
    "1. Apply one-hot-encoding on categorical features (use Scikit-learn or getDummies in Pandas (see: http://queirozf.com/entries/one-hot-encoding-a-feature-on-a-pandas-dataframe-an-example))\n",
    "2. Apply min-max-scaling or standardization (use Scikit-learn)"
   ]
  },
  {
   "cell_type": "code",
   "execution_count": 199,
   "metadata": {},
   "outputs": [],
   "source": [
    "#1: Apply one hot encoding (using getdummies and concat?)\n",
    "\n",
    "# Your code here\n",
    "df = pd.concat([df,pd.get_dummies(df['BldgType'], prefix='BldgType')],axis=1)\n",
    "df.drop(['BldgType'],axis=1, inplace=True)\n",
    "\n",
    "df = pd.concat([df,pd.get_dummies(df['HeatingQC'], prefix='HeatingQC')],axis=1)\n",
    "df.drop(['HeatingQC'],axis=1, inplace=True)"
   ]
  },
  {
   "cell_type": "code",
   "execution_count": 200,
   "metadata": {},
   "outputs": [
    {
     "name": "stdout",
     "output_type": "stream",
     "text": [
      "[2 2 1 ... 1 2 2]\n"
     ]
    }
   ],
   "source": [
    "from sklearn import preprocessing\n",
    "le = preprocessing.LabelEncoder()\n",
    "\n",
    "labels_encoded=le.fit_transform(df['Label'])\n",
    "print(labels_encoded)\n",
    "\n",
    "df.drop(['Label'],axis=1, inplace=True)"
   ]
  },
  {
   "cell_type": "code",
   "execution_count": 201,
   "metadata": {},
   "outputs": [
    {
     "data": {
      "text/html": [
       "<div>\n",
       "<style scoped>\n",
       "    .dataframe tbody tr th:only-of-type {\n",
       "        vertical-align: middle;\n",
       "    }\n",
       "\n",
       "    .dataframe tbody tr th {\n",
       "        vertical-align: top;\n",
       "    }\n",
       "\n",
       "    .dataframe thead th {\n",
       "        text-align: right;\n",
       "    }\n",
       "</style>\n",
       "<table border=\"1\" class=\"dataframe\">\n",
       "  <thead>\n",
       "    <tr style=\"text-align: right;\">\n",
       "      <th></th>\n",
       "      <th>LotArea</th>\n",
       "      <th>LotFrontage</th>\n",
       "      <th>OverallQual</th>\n",
       "      <th>OverallCond</th>\n",
       "      <th>YearBuilt</th>\n",
       "      <th>BldgType_1Fam</th>\n",
       "      <th>BldgType_2fmCon</th>\n",
       "      <th>BldgType_Duplex</th>\n",
       "      <th>BldgType_Twnhs</th>\n",
       "      <th>BldgType_TwnhsE</th>\n",
       "      <th>HeatingQC_Ex</th>\n",
       "      <th>HeatingQC_Fa</th>\n",
       "      <th>HeatingQC_Gd</th>\n",
       "      <th>HeatingQC_Po</th>\n",
       "      <th>HeatingQC_TA</th>\n",
       "    </tr>\n",
       "  </thead>\n",
       "  <tbody>\n",
       "    <tr>\n",
       "      <td>0</td>\n",
       "      <td>8450</td>\n",
       "      <td>65.0</td>\n",
       "      <td>7.0</td>\n",
       "      <td>5</td>\n",
       "      <td>2003</td>\n",
       "      <td>1</td>\n",
       "      <td>0</td>\n",
       "      <td>0</td>\n",
       "      <td>0</td>\n",
       "      <td>0</td>\n",
       "      <td>1</td>\n",
       "      <td>0</td>\n",
       "      <td>0</td>\n",
       "      <td>0</td>\n",
       "      <td>0</td>\n",
       "    </tr>\n",
       "    <tr>\n",
       "      <td>1</td>\n",
       "      <td>9600</td>\n",
       "      <td>80.0</td>\n",
       "      <td>6.0</td>\n",
       "      <td>8</td>\n",
       "      <td>1976</td>\n",
       "      <td>1</td>\n",
       "      <td>0</td>\n",
       "      <td>0</td>\n",
       "      <td>0</td>\n",
       "      <td>0</td>\n",
       "      <td>1</td>\n",
       "      <td>0</td>\n",
       "      <td>0</td>\n",
       "      <td>0</td>\n",
       "      <td>0</td>\n",
       "    </tr>\n",
       "    <tr>\n",
       "      <td>2</td>\n",
       "      <td>11250</td>\n",
       "      <td>68.0</td>\n",
       "      <td>7.0</td>\n",
       "      <td>5</td>\n",
       "      <td>2001</td>\n",
       "      <td>1</td>\n",
       "      <td>0</td>\n",
       "      <td>0</td>\n",
       "      <td>0</td>\n",
       "      <td>0</td>\n",
       "      <td>1</td>\n",
       "      <td>0</td>\n",
       "      <td>0</td>\n",
       "      <td>0</td>\n",
       "      <td>0</td>\n",
       "    </tr>\n",
       "    <tr>\n",
       "      <td>3</td>\n",
       "      <td>9550</td>\n",
       "      <td>60.0</td>\n",
       "      <td>7.0</td>\n",
       "      <td>5</td>\n",
       "      <td>1915</td>\n",
       "      <td>1</td>\n",
       "      <td>0</td>\n",
       "      <td>0</td>\n",
       "      <td>0</td>\n",
       "      <td>0</td>\n",
       "      <td>0</td>\n",
       "      <td>0</td>\n",
       "      <td>1</td>\n",
       "      <td>0</td>\n",
       "      <td>0</td>\n",
       "    </tr>\n",
       "    <tr>\n",
       "      <td>4</td>\n",
       "      <td>14260</td>\n",
       "      <td>84.0</td>\n",
       "      <td>8.0</td>\n",
       "      <td>5</td>\n",
       "      <td>2000</td>\n",
       "      <td>1</td>\n",
       "      <td>0</td>\n",
       "      <td>0</td>\n",
       "      <td>0</td>\n",
       "      <td>0</td>\n",
       "      <td>1</td>\n",
       "      <td>0</td>\n",
       "      <td>0</td>\n",
       "      <td>0</td>\n",
       "      <td>0</td>\n",
       "    </tr>\n",
       "    <tr>\n",
       "      <td>...</td>\n",
       "      <td>...</td>\n",
       "      <td>...</td>\n",
       "      <td>...</td>\n",
       "      <td>...</td>\n",
       "      <td>...</td>\n",
       "      <td>...</td>\n",
       "      <td>...</td>\n",
       "      <td>...</td>\n",
       "      <td>...</td>\n",
       "      <td>...</td>\n",
       "      <td>...</td>\n",
       "      <td>...</td>\n",
       "      <td>...</td>\n",
       "      <td>...</td>\n",
       "      <td>...</td>\n",
       "    </tr>\n",
       "    <tr>\n",
       "      <td>1455</td>\n",
       "      <td>7917</td>\n",
       "      <td>62.0</td>\n",
       "      <td>6.0</td>\n",
       "      <td>5</td>\n",
       "      <td>1999</td>\n",
       "      <td>1</td>\n",
       "      <td>0</td>\n",
       "      <td>0</td>\n",
       "      <td>0</td>\n",
       "      <td>0</td>\n",
       "      <td>1</td>\n",
       "      <td>0</td>\n",
       "      <td>0</td>\n",
       "      <td>0</td>\n",
       "      <td>0</td>\n",
       "    </tr>\n",
       "    <tr>\n",
       "      <td>1456</td>\n",
       "      <td>13175</td>\n",
       "      <td>85.0</td>\n",
       "      <td>6.0</td>\n",
       "      <td>6</td>\n",
       "      <td>1978</td>\n",
       "      <td>1</td>\n",
       "      <td>0</td>\n",
       "      <td>0</td>\n",
       "      <td>0</td>\n",
       "      <td>0</td>\n",
       "      <td>0</td>\n",
       "      <td>0</td>\n",
       "      <td>0</td>\n",
       "      <td>0</td>\n",
       "      <td>1</td>\n",
       "    </tr>\n",
       "    <tr>\n",
       "      <td>1457</td>\n",
       "      <td>9042</td>\n",
       "      <td>66.0</td>\n",
       "      <td>7.0</td>\n",
       "      <td>9</td>\n",
       "      <td>1941</td>\n",
       "      <td>1</td>\n",
       "      <td>0</td>\n",
       "      <td>0</td>\n",
       "      <td>0</td>\n",
       "      <td>0</td>\n",
       "      <td>1</td>\n",
       "      <td>0</td>\n",
       "      <td>0</td>\n",
       "      <td>0</td>\n",
       "      <td>0</td>\n",
       "    </tr>\n",
       "    <tr>\n",
       "      <td>1458</td>\n",
       "      <td>9717</td>\n",
       "      <td>68.0</td>\n",
       "      <td>5.0</td>\n",
       "      <td>6</td>\n",
       "      <td>1950</td>\n",
       "      <td>1</td>\n",
       "      <td>0</td>\n",
       "      <td>0</td>\n",
       "      <td>0</td>\n",
       "      <td>0</td>\n",
       "      <td>0</td>\n",
       "      <td>0</td>\n",
       "      <td>1</td>\n",
       "      <td>0</td>\n",
       "      <td>0</td>\n",
       "    </tr>\n",
       "    <tr>\n",
       "      <td>1459</td>\n",
       "      <td>9937</td>\n",
       "      <td>75.0</td>\n",
       "      <td>5.0</td>\n",
       "      <td>6</td>\n",
       "      <td>1965</td>\n",
       "      <td>1</td>\n",
       "      <td>0</td>\n",
       "      <td>0</td>\n",
       "      <td>0</td>\n",
       "      <td>0</td>\n",
       "      <td>0</td>\n",
       "      <td>0</td>\n",
       "      <td>1</td>\n",
       "      <td>0</td>\n",
       "      <td>0</td>\n",
       "    </tr>\n",
       "  </tbody>\n",
       "</table>\n",
       "<p>1308 rows × 15 columns</p>\n",
       "</div>"
      ],
      "text/plain": [
       "      LotArea  LotFrontage  OverallQual  OverallCond  YearBuilt  \\\n",
       "0        8450         65.0          7.0            5       2003   \n",
       "1        9600         80.0          6.0            8       1976   \n",
       "2       11250         68.0          7.0            5       2001   \n",
       "3        9550         60.0          7.0            5       1915   \n",
       "4       14260         84.0          8.0            5       2000   \n",
       "...       ...          ...          ...          ...        ...   \n",
       "1455     7917         62.0          6.0            5       1999   \n",
       "1456    13175         85.0          6.0            6       1978   \n",
       "1457     9042         66.0          7.0            9       1941   \n",
       "1458     9717         68.0          5.0            6       1950   \n",
       "1459     9937         75.0          5.0            6       1965   \n",
       "\n",
       "      BldgType_1Fam  BldgType_2fmCon  BldgType_Duplex  BldgType_Twnhs  \\\n",
       "0                 1                0                0               0   \n",
       "1                 1                0                0               0   \n",
       "2                 1                0                0               0   \n",
       "3                 1                0                0               0   \n",
       "4                 1                0                0               0   \n",
       "...             ...              ...              ...             ...   \n",
       "1455              1                0                0               0   \n",
       "1456              1                0                0               0   \n",
       "1457              1                0                0               0   \n",
       "1458              1                0                0               0   \n",
       "1459              1                0                0               0   \n",
       "\n",
       "      BldgType_TwnhsE  HeatingQC_Ex  HeatingQC_Fa  HeatingQC_Gd  HeatingQC_Po  \\\n",
       "0                   0             1             0             0             0   \n",
       "1                   0             1             0             0             0   \n",
       "2                   0             1             0             0             0   \n",
       "3                   0             0             0             1             0   \n",
       "4                   0             1             0             0             0   \n",
       "...               ...           ...           ...           ...           ...   \n",
       "1455                0             1             0             0             0   \n",
       "1456                0             0             0             0             0   \n",
       "1457                0             1             0             0             0   \n",
       "1458                0             0             0             1             0   \n",
       "1459                0             0             0             1             0   \n",
       "\n",
       "      HeatingQC_TA  \n",
       "0                0  \n",
       "1                0  \n",
       "2                0  \n",
       "3                0  \n",
       "4                0  \n",
       "...            ...  \n",
       "1455             0  \n",
       "1456             1  \n",
       "1457             0  \n",
       "1458             0  \n",
       "1459             0  \n",
       "\n",
       "[1308 rows x 15 columns]"
      ]
     },
     "execution_count": 201,
     "metadata": {},
     "output_type": "execute_result"
    }
   ],
   "source": [
    "df"
   ]
  },
  {
   "cell_type": "code",
   "execution_count": 236,
   "metadata": {},
   "outputs": [
    {
     "name": "stdout",
     "output_type": "stream",
     "text": [
      "[[-0.21685288 -0.10786306  0.753954   ... -0.02766064 -0.6565609\n",
      "   2.        ]\n",
      " [ 0.14307467  0.84593295 -0.02317116 ... -0.02766064 -0.6565609\n",
      "   2.        ]\n",
      " [ 0.65949247  0.08289614  0.753954   ... -0.02766064 -0.6565609\n",
      "   1.        ]\n",
      " ...\n",
      " [-0.03156844 -0.04427666  0.753954   ... -0.02766064 -0.6565609\n",
      "   1.        ]\n",
      " [ 0.17969339  0.08289614 -0.80029633 ... -0.02766064 -0.6565609\n",
      "   2.        ]\n",
      " [ 0.24854909  0.52800095 -0.80029633 ... -0.02766064 -0.6565609\n",
      "   2.        ]]\n"
     ]
    }
   ],
   "source": [
    "#2: Apply min-max scaling or standardization\n",
    "from sklearn.preprocessing import StandardScaler\n",
    "# Your code here\n",
    "\n",
    "scaler = StandardScaler()\n",
    "scaler.fit(df)\n",
    "scaled = scaler.transform(df)\n",
    "labels_encoded = labels_encoded.reshape(-2, 1)\n",
    "scaled = np.hstack((scaled,labels_encoded))"
   ]
  },
  {
   "cell_type": "markdown",
   "metadata": {},
   "source": [
    "## Exercise 5: Classification\n",
    "1. Split the dataset in two parts (75%/25%) for training and testing.\n",
    "2. Use the kNN algorithm from Scikit-learn and train a classifier\n",
    "3. Validate using your testset\n",
    "4. Play around with several hyperparameters to optimize your classification results\n",
    "\n",
    "**Warning: this dataset will probably not give you great classification results (around 70% score)**"
   ]
  },
  {
   "cell_type": "code",
   "execution_count": 246,
   "metadata": {},
   "outputs": [
    {
     "name": "stdout",
     "output_type": "stream",
     "text": [
      "981\n",
      "327\n",
      "(981, 16)\n"
     ]
    }
   ],
   "source": [
    "# Your code here\n",
    "from sklearn.model_selection import train_test_split\n",
    "train, test= train_test_split(scaled, test_size=0.25, random_state=0)\n",
    "print(len(train))\n",
    "print(len(test))\n",
    "print(train.shape)"
   ]
  },
  {
   "cell_type": "code",
   "execution_count": 247,
   "metadata": {},
   "outputs": [
    {
     "data": {
      "text/plain": [
       "array([[-1.86626002, -2.33338708,  0.753954  , ..., -0.44967308,\n",
       "        -0.02766064, -0.6565609 ],\n",
       "       [-1.62088332, -1.57035027, -0.02317116, ...,  2.2238378 ,\n",
       "        -0.02766064, -0.6565609 ],\n",
       "       [ 0.06076081,  0.14648254, -0.02317116, ..., -0.44967308,\n",
       "        -0.02766064, -0.6565609 ],\n",
       "       ...,\n",
       "       [ 0.21881595, -0.99807267, -0.02317116, ..., -0.44967308,\n",
       "        -0.02766064, -0.6565609 ],\n",
       "       [ 0.26826687,  1.29103775, -0.02317116, ..., -0.44967308,\n",
       "        -0.02766064,  1.52308797],\n",
       "       [-0.69852984, -0.42579506, -0.80029633, ..., -0.44967308,\n",
       "        -0.02766064,  1.52308797]])"
      ]
     },
     "execution_count": 247,
     "metadata": {},
     "output_type": "execute_result"
    }
   ],
   "source": [
    "train_labels = train[:,15]\n",
    "test_labels = test[:,15]\n",
    "\n",
    "train = train[:,0:15]\n",
    "test = test[:,0:15]"
   ]
  },
  {
   "cell_type": "code",
   "execution_count": 249,
   "metadata": {},
   "outputs": [
    {
     "name": "stdout",
     "output_type": "stream",
     "text": [
      "[0. 1. 2. 2. 2. 0. 1. 2. 2. 1. 0. 0. 2. 1. 2. 1. 0. 1. 2. 2. 2. 0. 0. 2.\n",
      " 0. 2. 0. 2. 2. 2. 1. 2. 0. 0. 2. 2. 0. 2. 0. 2. 0. 1. 1. 0. 0. 2. 2. 2.\n",
      " 0. 1. 0. 2. 1. 0. 2. 0. 2. 0. 2. 0. 0. 0. 1. 2. 0. 2. 1. 0. 0. 2. 1. 0.\n",
      " 2. 2. 1. 2. 2. 2. 2. 2. 0. 1. 1. 2. 1. 2. 2. 1. 2. 2. 1. 1. 0. 2. 0. 2.\n",
      " 2. 0. 2. 0. 0. 0. 1. 2. 2. 0. 2. 0. 2. 2. 2. 2. 2. 0. 0. 2. 1. 2. 0. 2.\n",
      " 1. 1. 2. 1. 0. 2. 2. 0. 2. 0. 0. 0. 0. 2. 0. 2. 2. 0. 2. 2. 2. 2. 2. 0.\n",
      " 2. 2. 0. 2. 2. 2. 0. 0. 1. 0. 2. 0. 0. 0. 2. 0. 1. 2. 0. 2. 0. 2. 2. 2.\n",
      " 0. 0. 2. 0. 1. 2. 2. 2. 2. 0. 0. 0. 2. 0. 2. 2. 1. 1. 0. 1. 1. 2. 1. 2.\n",
      " 0. 0. 1. 2. 2. 2. 1. 1. 0. 2. 0. 0. 1. 2. 1. 2. 2. 0. 2. 0. 0. 2. 2. 2.\n",
      " 1. 0. 0. 0. 2. 1. 0. 1. 2. 2. 0. 2. 2. 0. 0. 0. 2. 2. 2. 1. 1. 2. 2. 0.\n",
      " 0. 2. 0. 2. 0. 0. 0. 0. 0. 0. 0. 0. 1. 0. 1. 2. 1. 0. 1. 2. 1. 2. 0. 2.\n",
      " 2. 0. 0. 2. 2. 1. 1. 2. 0. 2. 2. 2. 0. 0. 2. 1. 0. 2. 1. 2. 2. 0. 0. 0.\n",
      " 2. 2. 2. 1. 0. 1. 1. 1. 0. 1. 0. 0. 2. 1. 1. 1. 0. 1. 2. 0. 2. 1. 2. 1.\n",
      " 0. 2. 1. 2. 0. 2. 2. 0. 0. 0. 2. 2. 2. 2. 2.]\n",
      "[0. 1. 2. 1. 2. 0. 2. 1. 2. 1. 2. 0. 2. 2. 2. 1. 0. 1. 2. 2. 2. 2. 0. 2.\n",
      " 2. 2. 0. 2. 2. 2. 2. 2. 2. 0. 0. 2. 0. 2. 2. 0. 0. 1. 1. 0. 0. 2. 2. 2.\n",
      " 0. 1. 2. 0. 1. 2. 2. 0. 2. 2. 1. 0. 0. 0. 1. 0. 2. 2. 1. 0. 0. 2. 1. 2.\n",
      " 2. 2. 1. 0. 2. 0. 2. 2. 2. 1. 2. 0. 1. 2. 0. 2. 2. 0. 2. 0. 2. 2. 2. 1.\n",
      " 2. 0. 1. 0. 2. 0. 1. 2. 2. 2. 2. 0. 1. 2. 0. 2. 0. 2. 0. 2. 1. 2. 0. 2.\n",
      " 1. 1. 2. 1. 0. 2. 2. 0. 2. 0. 2. 2. 2. 2. 0. 1. 0. 2. 1. 2. 2. 1. 2. 2.\n",
      " 0. 2. 2. 2. 0. 2. 0. 0. 1. 0. 0. 2. 1. 2. 2. 0. 1. 2. 0. 1. 0. 2. 2. 0.\n",
      " 0. 2. 2. 2. 1. 2. 0. 2. 2. 2. 0. 0. 2. 0. 2. 2. 1. 1. 2. 1. 1. 0. 2. 0.\n",
      " 0. 2. 1. 0. 2. 2. 1. 1. 0. 1. 0. 0. 1. 0. 1. 2. 1. 0. 2. 2. 0. 2. 2. 2.\n",
      " 2. 2. 0. 0. 2. 1. 2. 1. 2. 2. 0. 2. 2. 0. 2. 0. 2. 0. 0. 1. 1. 2. 2. 0.\n",
      " 0. 0. 0. 2. 0. 2. 0. 2. 0. 0. 0. 0. 1. 0. 2. 2. 1. 0. 1. 2. 1. 2. 0. 2.\n",
      " 2. 0. 0. 0. 2. 1. 1. 2. 0. 2. 2. 2. 2. 1. 2. 1. 0. 2. 1. 2. 2. 0. 0. 0.\n",
      " 2. 2. 2. 1. 2. 2. 2. 1. 2. 1. 0. 0. 0. 1. 1. 1. 0. 2. 2. 0. 2. 1. 2. 1.\n",
      " 0. 1. 1. 1. 0. 2. 2. 0. 0. 2. 1. 0. 2. 2. 0.]\n"
     ]
    }
   ],
   "source": [
    "from sklearn.neighbors import KNeighborsClassifier\n",
    "\n",
    "model = KNeighborsClassifier(n_neighbors=3)\n",
    "\n",
    "model.fit(train,train_labels)\n",
    "\n",
    "predicted= model.predict(test) # 0:Overcast, 2:Mild\n",
    "print(predicted)\n",
    "print(test_labels)"
   ]
  },
  {
   "cell_type": "code",
   "execution_count": 251,
   "metadata": {},
   "outputs": [
    {
     "data": {
      "text/plain": [
       "0.7859327217125383"
      ]
     },
     "execution_count": 251,
     "metadata": {},
     "output_type": "execute_result"
    }
   ],
   "source": [
    "from sklearn import svm\n",
    "\n",
    "clf = svm.SVC(kernel='linear', C=1).fit(train, train_labels)\n",
    "clf.score(test, test_labels)"
   ]
  },
  {
   "cell_type": "code",
   "execution_count": null,
   "metadata": {},
   "outputs": [],
   "source": []
  }
 ],
 "metadata": {
  "kernelspec": {
   "display_name": "Python 3",
   "language": "python",
   "name": "python3"
  },
  "language_info": {
   "codemirror_mode": {
    "name": "ipython",
    "version": 3
   },
   "file_extension": ".py",
   "mimetype": "text/x-python",
   "name": "python",
   "nbconvert_exporter": "python",
   "pygments_lexer": "ipython3",
   "version": "3.7.4"
  },
  "varInspector": {
   "cols": {
    "lenName": 16,
    "lenType": 16,
    "lenVar": 40
   },
   "kernels_config": {
    "python": {
     "delete_cmd_postfix": "",
     "delete_cmd_prefix": "del ",
     "library": "var_list.py",
     "varRefreshCmd": "print(var_dic_list())"
    },
    "r": {
     "delete_cmd_postfix": ") ",
     "delete_cmd_prefix": "rm(",
     "library": "var_list.r",
     "varRefreshCmd": "cat(var_dic_list()) "
    }
   },
   "types_to_exclude": [
    "module",
    "function",
    "builtin_function_or_method",
    "instance",
    "_Feature"
   ],
   "window_display": false
  }
 },
 "nbformat": 4,
 "nbformat_minor": 2
}
